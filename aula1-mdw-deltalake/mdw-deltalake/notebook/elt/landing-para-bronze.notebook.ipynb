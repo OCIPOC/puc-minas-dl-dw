{
 "cells": [
  {
   "cell_type": "markdown",
   "id": "c27f9653",
   "metadata": {},
   "source": [
    "<p align=\"center\">\n",
    "  <a href=\"\" rel=\"noopener\">\n",
    " <img width=500px height=100px src=\"https://docs.delta.io/latest/_static/delta-lake-logo.png\" alt=\"Project logo\"></a>\n",
    "</p>\n",
    "\n",
    "<h6 align=\"center\">Delta Lake é um projeto de código aberto que permite a construção de uma arquitetura Lakehouse. Fornecendo features como, transações ACID, manipulação de metadados escalonáveis e unificação do modo de realizar processamento de dados em lote e streaming sobre os data lakes existentes, como S3, ADLS, GCS e HDFS.</h6>\n",
    "\n",
    "<div align=\"center\">\n",
    "</div>"
   ]
  },
  {
   "cell_type": "markdown",
   "id": "aa9ffcc2",
   "metadata": {},
   "source": [
    "<h6 align=\"center\">\n",
    "Delta Lake é uma camada de armazenamento que utiliza o formato Parquet como padrão e que fornece transações compatíveis com ACID e benefícios adicionais para Data Lakes. O Delta Lake pode ajudar a resolver diversos problemas alguns deles são:\n",
    "</h6>\n",
    "    \n",
    "- Dificuldade em anexar dados\n",
    "- Jobs extremamente custosos que falham durante a execução\n",
    "- Modificações de dados armazenados são difíceis\n",
    "- Operações em tempo real\n",
    "- É caro manter versões históricas de dados\n",
    "- Difícil de lidar com metadados grandes\n",
    "- Problemas de “muitos arquivos”\n",
    "- É difícil obter um ótimo desempenho\n",
    "- Problemas de qualidade de dados\n"
   ]
  },
  {
   "cell_type": "code",
   "execution_count": 1,
   "id": "5c231dfc",
   "metadata": {},
   "outputs": [
    {
     "data": {
      "text/html": [
       "\n",
       "            <div>\n",
       "                <p><b>SparkSession - in-memory</b></p>\n",
       "                \n",
       "        <div>\n",
       "            <p><b>SparkContext</b></p>\n",
       "\n",
       "            <p><a href=\"http://9b095b233a82:4040\">Spark UI</a></p>\n",
       "\n",
       "            <dl>\n",
       "              <dt>Version</dt>\n",
       "                <dd><code>v3.2.1</code></dd>\n",
       "              <dt>Master</dt>\n",
       "                <dd><code>local[*]</code></dd>\n",
       "              <dt>AppName</dt>\n",
       "                <dd><code>aula1 - mdw deltalake</code></dd>\n",
       "            </dl>\n",
       "        </div>\n",
       "        \n",
       "            </div>\n",
       "        "
      ],
      "text/plain": [
       "<pyspark.sql.session.SparkSession at 0xffff90166d30>"
      ]
     },
     "execution_count": 1,
     "metadata": {},
     "output_type": "execute_result"
    }
   ],
   "source": [
    "from pyspark.sql import SparkSession\n",
    "\n",
    "spark = (\n",
    "    SparkSession\n",
    "    .builder\n",
    "    .appName(\"aula1 - mdw deltalake\")\n",
    "    .config(\"spark.jars.packages\", \"io.delta:delta-core_2.12:1.1.0\")\n",
    "    .config(\"spark.sql.extensions\", \"io.delta.sql.DeltaSparkSessionExtension\")\n",
    "    .config(\"spark.sql.catalog.spark_catalog\", \"org.apache.spark.sql.delta.catalog.DeltaCatalog\")\n",
    "    .getOrCreate()\n",
    ")\n",
    "\n",
    "spark"
   ]
  },
  {
   "cell_type": "code",
   "execution_count": 2,
   "id": "e8bcbc05",
   "metadata": {},
   "outputs": [],
   "source": [
    "from delta.tables import DeltaTable"
   ]
  },
  {
   "cell_type": "markdown",
   "id": "01de7702",
   "metadata": {},
   "source": [
    "## Lendo dados brutos"
   ]
  },
  {
   "cell_type": "code",
   "execution_count": 3,
   "id": "4a9c8350-e060-4509-9f08-8e7937fd0db2",
   "metadata": {},
   "outputs": [],
   "source": [
    "path_landing = {\n",
    "    \"user\":\"/home/jovyan/work/datalake/s3/landing-zone/user\"\n",
    "}"
   ]
  },
  {
   "cell_type": "code",
   "execution_count": 4,
   "id": "d5eed617",
   "metadata": {},
   "outputs": [
    {
     "name": "stdout",
     "output_type": "stream",
     "text": [
      "+-------+-----------------------+\n",
      "|user_id|email                  |\n",
      "+-------+-----------------------+\n",
      "|1703   |daron.bailey@email.com |\n",
      "|3650   |jonah.barrows@email.com|\n",
      "|8809   |carla.hansen@email.com |\n",
      "|4606   |tomas.ledner@email.com |\n",
      "|1      |alyse.ortiz@email.com  |\n",
      "+-------+-----------------------+\n",
      "only showing top 5 rows\n",
      "\n",
      "QTD REGISTROS: 800\n"
     ]
    }
   ],
   "source": [
    "df_user = (\n",
    "    spark\n",
    "    .read\n",
    "    .format(\"json\")\n",
    "    .load(path_landing[\"user\"])\n",
    "    .select(\"user_id\", \"email\")\n",
    ")\n",
    "\n",
    "df_user.show(n=5, truncate=False)\n",
    "print(f\"QTD REGISTROS: {df_user.count()}\")"
   ]
  },
  {
   "cell_type": "markdown",
   "id": "e17775bd",
   "metadata": {},
   "source": [
    "## Escrevendo os dados em formato Delta"
   ]
  },
  {
   "cell_type": "code",
   "execution_count": 5,
   "id": "2552168a-6321-4fa9-9e02-0bf3f8943ec3",
   "metadata": {},
   "outputs": [],
   "source": [
    "path_bronze = {\n",
    "    \"user\":\"/home/jovyan/work/datalake/s3/bronze/user\"\n",
    "}"
   ]
  },
  {
   "cell_type": "code",
   "execution_count": 21,
   "id": "050ae5ee",
   "metadata": {},
   "outputs": [],
   "source": [
    "(\n",
    "    df_user\n",
    "    .write\n",
    "    .format(\"delta\")\n",
    "    .mode(\"overwrite\") # overwrite | append\n",
    "    .save(path_bronze[\"user\"])\n",
    ")"
   ]
  },
  {
   "cell_type": "markdown",
   "id": "d3c38a9f-5059-43f5-bd2d-cae34290eac3",
   "metadata": {},
   "source": [
    "## Histórico da Delta Table"
   ]
  },
  {
   "cell_type": "code",
   "execution_count": 82,
   "id": "ddf9e567-f62a-4267-ba0f-62d94533228c",
   "metadata": {},
   "outputs": [
    {
     "name": "stdout",
     "output_type": "stream",
     "text": [
      "-RECORD 0------------------------------------------------------------------------------------------------------------------------------------------------------------------------------------------------------------------------------------------------------------------------------------------------\n",
      " version             | 25                                                                                                                                                                                                                                                                                \n",
      " timestamp           | 2022-02-11 00:13:07.326                                                                                                                                                                                                                                                           \n",
      " userId              | null                                                                                                                                                                                                                                                                              \n",
      " userName            | null                                                                                                                                                                                                                                                                              \n",
      " operation           | WRITE                                                                                                                                                                                                                                                                             \n",
      " operationParameters | {mode -> Overwrite, partitionBy -> []}                                                                                                                                                                                                                                            \n",
      " job                 | null                                                                                                                                                                                                                                                                              \n",
      " notebook            | null                                                                                                                                                                                                                                                                              \n",
      " clusterId           | null                                                                                                                                                                                                                                                                              \n",
      " readVersion         | 24                                                                                                                                                                                                                                                                                \n",
      " isolationLevel      | Serializable                                                                                                                                                                                                                                                                      \n",
      " isBlindAppend       | false                                                                                                                                                                                                                                                                             \n",
      " operationMetrics    | {numFiles -> 4, numOutputRows -> 800, numOutputBytes -> 18915}                                                                                                                                                                                                                    \n",
      " userMetadata        | null                                                                                                                                                                                                                                                                              \n",
      " engineInfo          | Apache-Spark/3.2.1 Delta-Lake/1.1.0                                                                                                                                                                                                                                               \n",
      "-RECORD 1------------------------------------------------------------------------------------------------------------------------------------------------------------------------------------------------------------------------------------------------------------------------------------------------\n",
      " version             | 24                                                                                                                                                                                                                                                                                \n",
      " timestamp           | 2022-02-11 00:12:41.529                                                                                                                                                                                                                                                           \n",
      " userId              | null                                                                                                                                                                                                                                                                              \n",
      " userName            | null                                                                                                                                                                                                                                                                              \n",
      " operation           | WRITE                                                                                                                                                                                                                                                                             \n",
      " operationParameters | {mode -> Overwrite, partitionBy -> []}                                                                                                                                                                                                                                            \n",
      " job                 | null                                                                                                                                                                                                                                                                              \n",
      " notebook            | null                                                                                                                                                                                                                                                                              \n",
      " clusterId           | null                                                                                                                                                                                                                                                                              \n",
      " readVersion         | 23                                                                                                                                                                                                                                                                                \n",
      " isolationLevel      | Serializable                                                                                                                                                                                                                                                                      \n",
      " isBlindAppend       | false                                                                                                                                                                                                                                                                             \n",
      " operationMetrics    | {numFiles -> 4, numOutputRows -> 800, numOutputBytes -> 20668}                                                                                                                                                                                                                    \n",
      " userMetadata        | null                                                                                                                                                                                                                                                                              \n",
      " engineInfo          | Apache-Spark/3.2.1 Delta-Lake/1.1.0                                                                                                                                                                                                                                               \n",
      "-RECORD 2------------------------------------------------------------------------------------------------------------------------------------------------------------------------------------------------------------------------------------------------------------------------------------------------\n",
      " version             | 23                                                                                                                                                                                                                                                                                \n",
      " timestamp           | 2022-02-11 00:10:17.242                                                                                                                                                                                                                                                           \n",
      " userId              | null                                                                                                                                                                                                                                                                              \n",
      " userName            | null                                                                                                                                                                                                                                                                              \n",
      " operation           | WRITE                                                                                                                                                                                                                                                                             \n",
      " operationParameters | {mode -> Overwrite, partitionBy -> []}                                                                                                                                                                                                                                            \n",
      " job                 | null                                                                                                                                                                                                                                                                              \n",
      " notebook            | null                                                                                                                                                                                                                                                                              \n",
      " clusterId           | null                                                                                                                                                                                                                                                                              \n",
      " readVersion         | 22                                                                                                                                                                                                                                                                                \n",
      " isolationLevel      | Serializable                                                                                                                                                                                                                                                                      \n",
      " isBlindAppend       | false                                                                                                                                                                                                                                                                             \n",
      " operationMetrics    | {numFiles -> 4, numOutputRows -> 800, numOutputBytes -> 18915}                                                                                                                                                                                                                    \n",
      " userMetadata        | null                                                                                                                                                                                                                                                                              \n",
      " engineInfo          | Apache-Spark/3.2.1 Delta-Lake/1.1.0                                                                                                                                                                                                                                               \n",
      "-RECORD 3------------------------------------------------------------------------------------------------------------------------------------------------------------------------------------------------------------------------------------------------------------------------------------------------\n",
      " version             | 22                                                                                                                                                                                                                                                                                \n",
      " timestamp           | 2022-02-11 00:08:53.449                                                                                                                                                                                                                                                           \n",
      " userId              | null                                                                                                                                                                                                                                                                              \n",
      " userName            | null                                                                                                                                                                                                                                                                              \n",
      " operation           | WRITE                                                                                                                                                                                                                                                                             \n",
      " operationParameters | {mode -> Overwrite, partitionBy -> []}                                                                                                                                                                                                                                            \n",
      " job                 | null                                                                                                                                                                                                                                                                              \n",
      " notebook            | null                                                                                                                                                                                                                                                                              \n",
      " clusterId           | null                                                                                                                                                                                                                                                                              \n",
      " readVersion         | 21                                                                                                                                                                                                                                                                                \n",
      " isolationLevel      | Serializable                                                                                                                                                                                                                                                                      \n",
      " isBlindAppend       | false                                                                                                                                                                                                                                                                             \n",
      " operationMetrics    | {numFiles -> 4, numOutputRows -> 800, numOutputBytes -> 20668}                                                                                                                                                                                                                    \n",
      " userMetadata        | null                                                                                                                                                                                                                                                                              \n",
      " engineInfo          | Apache-Spark/3.2.1 Delta-Lake/1.1.0                                                                                                                                                                                                                                               \n",
      "-RECORD 4------------------------------------------------------------------------------------------------------------------------------------------------------------------------------------------------------------------------------------------------------------------------------------------------\n",
      " version             | 21                                                                                                                                                                                                                                                                                \n",
      " timestamp           | 2022-02-10 23:55:00.826                                                                                                                                                                                                                                                           \n",
      " userId              | null                                                                                                                                                                                                                                                                              \n",
      " userName            | null                                                                                                                                                                                                                                                                              \n",
      " operation           | MERGE                                                                                                                                                                                                                                                                             \n",
      " operationParameters | {predicate -> (desatualizados.user_id = CAST(atualizados.user_id AS BIGINT)), matchedPredicates -> [{\"predicate\":\"(desatualizados.user_id = CAST(atualizados.user_id AS BIGINT))\",\"actionType\":\"update\"}], notMatchedPredicates -> [{\"actionType\":\"insert\"}]}                     \n",
      " job                 | null                                                                                                                                                                                                                                                                              \n",
      " notebook            | null                                                                                                                                                                                                                                                                              \n",
      " clusterId           | null                                                                                                                                                                                                                                                                              \n",
      " readVersion         | 20                                                                                                                                                                                                                                                                                \n",
      " isolationLevel      | Serializable                                                                                                                                                                                                                                                                      \n",
      " isBlindAppend       | false                                                                                                                                                                                                                                                                             \n",
      " operationMetrics    | {numTargetRowsCopied -> 397, numTargetRowsDeleted -> 0, numTargetFilesAdded -> 1, executionTimeMs -> 1543, numTargetRowsInserted -> 0, scanTimeMs -> 1034, numTargetRowsUpdated -> 2, numOutputRows -> 399, numSourceRows -> 2, numTargetFilesRemoved -> 2, rewriteTimeMs -> 498} \n",
      " userMetadata        | null                                                                                                                                                                                                                                                                              \n",
      " engineInfo          | Apache-Spark/3.2.1 Delta-Lake/1.1.0                                                                                                                                                                                                                                               \n",
      "-RECORD 5------------------------------------------------------------------------------------------------------------------------------------------------------------------------------------------------------------------------------------------------------------------------------------------------\n",
      " version             | 20                                                                                                                                                                                                                                                                                \n",
      " timestamp           | 2022-02-10 23:50:09.218                                                                                                                                                                                                                                                           \n",
      " userId              | null                                                                                                                                                                                                                                                                              \n",
      " userName            | null                                                                                                                                                                                                                                                                              \n",
      " operation           | UPDATE                                                                                                                                                                                                                                                                            \n",
      " operationParameters | {predicate -> (email#5545 = marcos.collier@email.com)}                                                                                                                                                                                                                            \n",
      " job                 | null                                                                                                                                                                                                                                                                              \n",
      " notebook            | null                                                                                                                                                                                                                                                                              \n",
      " clusterId           | null                                                                                                                                                                                                                                                                              \n",
      " readVersion         | 19                                                                                                                                                                                                                                                                                \n",
      " isolationLevel      | Serializable                                                                                                                                                                                                                                                                      \n",
      " isBlindAppend       | false                                                                                                                                                                                                                                                                             \n",
      " operationMetrics    | {numRemovedFiles -> 1, numCopiedRows -> 199, executionTimeMs -> 398, scanTimeMs -> 294, numAddedFiles -> 1, numUpdatedRows -> 1, rewriteTimeMs -> 104}                                                                                                                            \n",
      " userMetadata        | null                                                                                                                                                                                                                                                                              \n",
      " engineInfo          | Apache-Spark/3.2.1 Delta-Lake/1.1.0                                                                                                                                                                                                                                               \n",
      "-RECORD 6------------------------------------------------------------------------------------------------------------------------------------------------------------------------------------------------------------------------------------------------------------------------------------------------\n",
      " version             | 19                                                                                                                                                                                                                                                                                \n",
      " timestamp           | 2022-02-10 23:48:01.631                                                                                                                                                                                                                                                           \n",
      " userId              | null                                                                                                                                                                                                                                                                              \n",
      " userName            | null                                                                                                                                                                                                                                                                              \n",
      " operation           | DELETE                                                                                                                                                                                                                                                                            \n",
      " operationParameters | {predicate -> [\"(user_id = 1L)\"]}                                                                                                                                                                                                                                                 \n",
      " job                 | null                                                                                                                                                                                                                                                                              \n",
      " notebook            | null                                                                                                                                                                                                                                                                              \n",
      " clusterId           | null                                                                                                                                                                                                                                                                              \n",
      " readVersion         | 18                                                                                                                                                                                                                                                                                \n",
      " isolationLevel      | Serializable                                                                                                                                                                                                                                                                      \n",
      " isBlindAppend       | false                                                                                                                                                                                                                                                                             \n",
      " operationMetrics    | {numRemovedFiles -> 1, numCopiedRows -> 199, executionTimeMs -> 576, numDeletedRows -> 1, scanTimeMs -> 458, numAddedFiles -> 1, rewriteTimeMs -> 118}                                                                                                                            \n",
      " userMetadata        | null                                                                                                                                                                                                                                                                              \n",
      " engineInfo          | Apache-Spark/3.2.1 Delta-Lake/1.1.0                                                                                                                                                                                                                                               \n",
      "-RECORD 7------------------------------------------------------------------------------------------------------------------------------------------------------------------------------------------------------------------------------------------------------------------------------------------------\n",
      " version             | 18                                                                                                                                                                                                                                                                                \n",
      " timestamp           | 2022-02-10 23:46:57.332                                                                                                                                                                                                                                                           \n",
      " userId              | null                                                                                                                                                                                                                                                                              \n",
      " userName            | null                                                                                                                                                                                                                                                                              \n",
      " operation           | WRITE                                                                                                                                                                                                                                                                             \n",
      " operationParameters | {mode -> Overwrite, partitionBy -> []}                                                                                                                                                                                                                                            \n",
      " job                 | null                                                                                                                                                                                                                                                                              \n",
      " notebook            | null                                                                                                                                                                                                                                                                              \n",
      " clusterId           | null                                                                                                                                                                                                                                                                              \n",
      " readVersion         | 17                                                                                                                                                                                                                                                                                \n",
      " isolationLevel      | Serializable                                                                                                                                                                                                                                                                      \n",
      " isBlindAppend       | false                                                                                                                                                                                                                                                                             \n",
      " operationMetrics    | {numFiles -> 4, numOutputRows -> 800, numOutputBytes -> 18915}                                                                                                                                                                                                                    \n",
      " userMetadata        | null                                                                                                                                                                                                                                                                              \n",
      " engineInfo          | Apache-Spark/3.2.1 Delta-Lake/1.1.0                                                                                                                                                                                                                                               \n",
      "-RECORD 8------------------------------------------------------------------------------------------------------------------------------------------------------------------------------------------------------------------------------------------------------------------------------------------------\n",
      " version             | 17                                                                                                                                                                                                                                                                                \n",
      " timestamp           | 2022-02-10 23:46:31.807                                                                                                                                                                                                                                                           \n",
      " userId              | null                                                                                                                                                                                                                                                                              \n",
      " userName            | null                                                                                                                                                                                                                                                                              \n",
      " operation           | WRITE                                                                                                                                                                                                                                                                             \n",
      " operationParameters | {mode -> Append, partitionBy -> []}                                                                                                                                                                                                                                               \n",
      " job                 | null                                                                                                                                                                                                                                                                              \n",
      " notebook            | null                                                                                                                                                                                                                                                                              \n",
      " clusterId           | null                                                                                                                                                                                                                                                                              \n",
      " readVersion         | 16                                                                                                                                                                                                                                                                                \n",
      " isolationLevel      | Serializable                                                                                                                                                                                                                                                                      \n",
      " isBlindAppend       | true                                                                                                                                                                                                                                                                              \n",
      " operationMetrics    | {numFiles -> 4, numOutputRows -> 800, numOutputBytes -> 18915}                                                                                                                                                                                                                    \n",
      " userMetadata        | null                                                                                                                                                                                                                                                                              \n",
      " engineInfo          | Apache-Spark/3.2.1 Delta-Lake/1.1.0                                                                                                                                                                                                                                               \n",
      "-RECORD 9------------------------------------------------------------------------------------------------------------------------------------------------------------------------------------------------------------------------------------------------------------------------------------------------\n",
      " version             | 16                                                                                                                                                                                                                                                                                \n",
      " timestamp           | 2022-02-10 23:45:59.469                                                                                                                                                                                                                                                           \n",
      " userId              | null                                                                                                                                                                                                                                                                              \n",
      " userName            | null                                                                                                                                                                                                                                                                              \n",
      " operation           | WRITE                                                                                                                                                                                                                                                                             \n",
      " operationParameters | {mode -> Overwrite, partitionBy -> []}                                                                                                                                                                                                                                            \n",
      " job                 | null                                                                                                                                                                                                                                                                              \n",
      " notebook            | null                                                                                                                                                                                                                                                                              \n",
      " clusterId           | null                                                                                                                                                                                                                                                                              \n",
      " readVersion         | 15                                                                                                                                                                                                                                                                                \n",
      " isolationLevel      | Serializable                                                                                                                                                                                                                                                                      \n",
      " isBlindAppend       | false                                                                                                                                                                                                                                                                             \n",
      " operationMetrics    | {numFiles -> 4, numOutputRows -> 800, numOutputBytes -> 18915}                                                                                                                                                                                                                    \n",
      " userMetadata        | null                                                                                                                                                                                                                                                                              \n",
      " engineInfo          | Apache-Spark/3.2.1 Delta-Lake/1.1.0                                                                                                                                                                                                                                               \n",
      "-RECORD 10-----------------------------------------------------------------------------------------------------------------------------------------------------------------------------------------------------------------------------------------------------------------------------------------------\n",
      " version             | 15                                                                                                                                                                                                                                                                                \n",
      " timestamp           | 2022-02-10 23:41:50.094                                                                                                                                                                                                                                                           \n",
      " userId              | null                                                                                                                                                                                                                                                                              \n",
      " userName            | null                                                                                                                                                                                                                                                                              \n",
      " operation           | WRITE                                                                                                                                                                                                                                                                             \n",
      " operationParameters | {mode -> Overwrite, partitionBy -> []}                                                                                                                                                                                                                                            \n",
      " job                 | null                                                                                                                                                                                                                                                                              \n",
      " notebook            | null                                                                                                                                                                                                                                                                              \n",
      " clusterId           | null                                                                                                                                                                                                                                                                              \n",
      " readVersion         | 14                                                                                                                                                                                                                                                                                \n",
      " isolationLevel      | Serializable                                                                                                                                                                                                                                                                      \n",
      " isBlindAppend       | false                                                                                                                                                                                                                                                                             \n",
      " operationMetrics    | {numFiles -> 4, numOutputRows -> 800, numOutputBytes -> 18915}                                                                                                                                                                                                                    \n",
      " userMetadata        | null                                                                                                                                                                                                                                                                              \n",
      " engineInfo          | Apache-Spark/3.2.1 Delta-Lake/1.1.0                                                                                                                                                                                                                                               \n",
      "-RECORD 11-----------------------------------------------------------------------------------------------------------------------------------------------------------------------------------------------------------------------------------------------------------------------------------------------\n",
      " version             | 14                                                                                                                                                                                                                                                                                \n",
      " timestamp           | 2022-02-10 23:39:22.25                                                                                                                                                                                                                                                            \n",
      " userId              | null                                                                                                                                                                                                                                                                              \n",
      " userName            | null                                                                                                                                                                                                                                                                              \n",
      " operation           | WRITE                                                                                                                                                                                                                                                                             \n",
      " operationParameters | {mode -> Overwrite, partitionBy -> []}                                                                                                                                                                                                                                            \n",
      " job                 | null                                                                                                                                                                                                                                                                              \n",
      " notebook            | null                                                                                                                                                                                                                                                                              \n",
      " clusterId           | null                                                                                                                                                                                                                                                                              \n",
      " readVersion         | 13                                                                                                                                                                                                                                                                                \n",
      " isolationLevel      | Serializable                                                                                                                                                                                                                                                                      \n",
      " isBlindAppend       | false                                                                                                                                                                                                                                                                             \n",
      " operationMetrics    | {numFiles -> 4, numOutputRows -> 800, numOutputBytes -> 18915}                                                                                                                                                                                                                    \n",
      " userMetadata        | null                                                                                                                                                                                                                                                                              \n",
      " engineInfo          | Apache-Spark/3.2.1 Delta-Lake/1.1.0                                                                                                                                                                                                                                               \n",
      "-RECORD 12-----------------------------------------------------------------------------------------------------------------------------------------------------------------------------------------------------------------------------------------------------------------------------------------------\n",
      " version             | 13                                                                                                                                                                                                                                                                                \n",
      " timestamp           | 2022-02-10 23:39:14.852                                                                                                                                                                                                                                                           \n",
      " userId              | null                                                                                                                                                                                                                                                                              \n",
      " userName            | null                                                                                                                                                                                                                                                                              \n",
      " operation           | WRITE                                                                                                                                                                                                                                                                             \n",
      " operationParameters | {mode -> Overwrite, partitionBy -> []}                                                                                                                                                                                                                                            \n",
      " job                 | null                                                                                                                                                                                                                                                                              \n",
      " notebook            | null                                                                                                                                                                                                                                                                              \n",
      " clusterId           | null                                                                                                                                                                                                                                                                              \n",
      " readVersion         | 12                                                                                                                                                                                                                                                                                \n",
      " isolationLevel      | Serializable                                                                                                                                                                                                                                                                      \n",
      " isBlindAppend       | false                                                                                                                                                                                                                                                                             \n",
      " operationMetrics    | {numFiles -> 4, numOutputRows -> 800, numOutputBytes -> 18915}                                                                                                                                                                                                                    \n",
      " userMetadata        | null                                                                                                                                                                                                                                                                              \n",
      " engineInfo          | Apache-Spark/3.2.1 Delta-Lake/1.1.0                                                                                                                                                                                                                                               \n",
      "-RECORD 13-----------------------------------------------------------------------------------------------------------------------------------------------------------------------------------------------------------------------------------------------------------------------------------------------\n",
      " version             | 12                                                                                                                                                                                                                                                                                \n",
      " timestamp           | 2022-02-10 23:38:06.368                                                                                                                                                                                                                                                           \n",
      " userId              | null                                                                                                                                                                                                                                                                              \n",
      " userName            | null                                                                                                                                                                                                                                                                              \n",
      " operation           | WRITE                                                                                                                                                                                                                                                                             \n",
      " operationParameters | {mode -> Overwrite, partitionBy -> []}                                                                                                                                                                                                                                            \n",
      " job                 | null                                                                                                                                                                                                                                                                              \n",
      " notebook            | null                                                                                                                                                                                                                                                                              \n",
      " clusterId           | null                                                                                                                                                                                                                                                                              \n",
      " readVersion         | 11                                                                                                                                                                                                                                                                                \n",
      " isolationLevel      | Serializable                                                                                                                                                                                                                                                                      \n",
      " isBlindAppend       | false                                                                                                                                                                                                                                                                             \n",
      " operationMetrics    | {numFiles -> 4, numOutputRows -> 800, numOutputBytes -> 18915}                                                                                                                                                                                                                    \n",
      " userMetadata        | null                                                                                                                                                                                                                                                                              \n",
      " engineInfo          | Apache-Spark/3.2.1 Delta-Lake/1.1.0                                                                                                                                                                                                                                               \n",
      "-RECORD 14-----------------------------------------------------------------------------------------------------------------------------------------------------------------------------------------------------------------------------------------------------------------------------------------------\n",
      " version             | 11                                                                                                                                                                                                                                                                                \n",
      " timestamp           | 2022-02-10 15:59:51.732                                                                                                                                                                                                                                                           \n",
      " userId              | null                                                                                                                                                                                                                                                                              \n",
      " userName            | null                                                                                                                                                                                                                                                                              \n",
      " operation           | WRITE                                                                                                                                                                                                                                                                             \n",
      " operationParameters | {mode -> Overwrite, partitionBy -> []}                                                                                                                                                                                                                                            \n",
      " job                 | null                                                                                                                                                                                                                                                                              \n",
      " notebook            | null                                                                                                                                                                                                                                                                              \n",
      " clusterId           | null                                                                                                                                                                                                                                                                              \n",
      " readVersion         | 10                                                                                                                                                                                                                                                                                \n",
      " isolationLevel      | Serializable                                                                                                                                                                                                                                                                      \n",
      " isBlindAppend       | false                                                                                                                                                                                                                                                                             \n",
      " operationMetrics    | {numFiles -> 4, numOutputRows -> 800, numOutputBytes -> 18915}                                                                                                                                                                                                                    \n",
      " userMetadata        | null                                                                                                                                                                                                                                                                              \n",
      " engineInfo          | Apache-Spark/3.2.1 Delta-Lake/1.1.0                                                                                                                                                                                                                                               \n",
      "-RECORD 15-----------------------------------------------------------------------------------------------------------------------------------------------------------------------------------------------------------------------------------------------------------------------------------------------\n",
      " version             | 10                                                                                                                                                                                                                                                                                \n",
      " timestamp           | 2022-02-10 15:59:49.383                                                                                                                                                                                                                                                           \n",
      " userId              | null                                                                                                                                                                                                                                                                              \n",
      " userName            | null                                                                                                                                                                                                                                                                              \n",
      " operation           | WRITE                                                                                                                                                                                                                                                                             \n",
      " operationParameters | {mode -> Overwrite, partitionBy -> []}                                                                                                                                                                                                                                            \n",
      " job                 | null                                                                                                                                                                                                                                                                              \n",
      " notebook            | null                                                                                                                                                                                                                                                                              \n",
      " clusterId           | null                                                                                                                                                                                                                                                                              \n",
      " readVersion         | 9                                                                                                                                                                                                                                                                                 \n",
      " isolationLevel      | Serializable                                                                                                                                                                                                                                                                      \n",
      " isBlindAppend       | false                                                                                                                                                                                                                                                                             \n",
      " operationMetrics    | {numFiles -> 4, numOutputRows -> 800, numOutputBytes -> 18915}                                                                                                                                                                                                                    \n",
      " userMetadata        | null                                                                                                                                                                                                                                                                              \n",
      " engineInfo          | Apache-Spark/3.2.1 Delta-Lake/1.1.0                                                                                                                                                                                                                                               \n",
      "-RECORD 16-----------------------------------------------------------------------------------------------------------------------------------------------------------------------------------------------------------------------------------------------------------------------------------------------\n",
      " version             | 9                                                                                                                                                                                                                                                                                 \n",
      " timestamp           | 2022-02-10 15:59:47.69                                                                                                                                                                                                                                                            \n",
      " userId              | null                                                                                                                                                                                                                                                                              \n",
      " userName            | null                                                                                                                                                                                                                                                                              \n",
      " operation           | WRITE                                                                                                                                                                                                                                                                             \n",
      " operationParameters | {mode -> Overwrite, partitionBy -> []}                                                                                                                                                                                                                                            \n",
      " job                 | null                                                                                                                                                                                                                                                                              \n",
      " notebook            | null                                                                                                                                                                                                                                                                              \n",
      " clusterId           | null                                                                                                                                                                                                                                                                              \n",
      " readVersion         | 8                                                                                                                                                                                                                                                                                 \n",
      " isolationLevel      | Serializable                                                                                                                                                                                                                                                                      \n",
      " isBlindAppend       | false                                                                                                                                                                                                                                                                             \n",
      " operationMetrics    | {numFiles -> 4, numOutputRows -> 800, numOutputBytes -> 20668}                                                                                                                                                                                                                    \n",
      " userMetadata        | null                                                                                                                                                                                                                                                                              \n",
      " engineInfo          | Apache-Spark/3.2.1 Delta-Lake/1.1.0                                                                                                                                                                                                                                               \n",
      "-RECORD 17-----------------------------------------------------------------------------------------------------------------------------------------------------------------------------------------------------------------------------------------------------------------------------------------------\n",
      " version             | 8                                                                                                                                                                                                                                                                                 \n",
      " timestamp           | 2022-02-10 15:59:15.287                                                                                                                                                                                                                                                           \n",
      " userId              | null                                                                                                                                                                                                                                                                              \n",
      " userName            | null                                                                                                                                                                                                                                                                              \n",
      " operation           | MERGE                                                                                                                                                                                                                                                                             \n",
      " operationParameters | {predicate -> (desatualizados.user_id = CAST(atualizados.user_id AS BIGINT)), matchedPredicates -> [{\"predicate\":\"(desatualizados.user_id = CAST(atualizados.user_id AS BIGINT))\",\"actionType\":\"update\"}], notMatchedPredicates -> [{\"actionType\":\"insert\"}]}                     \n",
      " job                 | null                                                                                                                                                                                                                                                                              \n",
      " notebook            | null                                                                                                                                                                                                                                                                              \n",
      " clusterId           | null                                                                                                                                                                                                                                                                              \n",
      " readVersion         | 7                                                                                                                                                                                                                                                                                 \n",
      " isolationLevel      | Serializable                                                                                                                                                                                                                                                                      \n",
      " isBlindAppend       | false                                                                                                                                                                                                                                                                             \n",
      " operationMetrics    | {numTargetRowsCopied -> 397, numTargetRowsDeleted -> 0, numTargetFilesAdded -> 1, executionTimeMs -> 1064, numTargetRowsInserted -> 0, scanTimeMs -> 678, numTargetRowsUpdated -> 2, numOutputRows -> 399, numSourceRows -> 2, numTargetFilesRemoved -> 2, rewriteTimeMs -> 380}  \n",
      " userMetadata        | null                                                                                                                                                                                                                                                                              \n",
      " engineInfo          | Apache-Spark/3.2.1 Delta-Lake/1.1.0                                                                                                                                                                                                                                               \n",
      "-RECORD 18-----------------------------------------------------------------------------------------------------------------------------------------------------------------------------------------------------------------------------------------------------------------------------------------------\n",
      " version             | 7                                                                                                                                                                                                                                                                                 \n",
      " timestamp           | 2022-02-10 15:59:12.002                                                                                                                                                                                                                                                           \n",
      " userId              | null                                                                                                                                                                                                                                                                              \n",
      " userName            | null                                                                                                                                                                                                                                                                              \n",
      " operation           | UPDATE                                                                                                                                                                                                                                                                            \n",
      " operationParameters | {predicate -> (email#988 = marcos.collier@email.com)}                                                                                                                                                                                                                             \n",
      " job                 | null                                                                                                                                                                                                                                                                              \n",
      " notebook            | null                                                                                                                                                                                                                                                                              \n",
      " clusterId           | null                                                                                                                                                                                                                                                                              \n",
      " readVersion         | 6                                                                                                                                                                                                                                                                                 \n",
      " isolationLevel      | Serializable                                                                                                                                                                                                                                                                      \n",
      " isBlindAppend       | false                                                                                                                                                                                                                                                                             \n",
      " operationMetrics    | {numRemovedFiles -> 1, numCopiedRows -> 199, executionTimeMs -> 410, scanTimeMs -> 295, numAddedFiles -> 1, numUpdatedRows -> 1, rewriteTimeMs -> 115}                                                                                                                            \n",
      " userMetadata        | null                                                                                                                                                                                                                                                                              \n",
      " engineInfo          | Apache-Spark/3.2.1 Delta-Lake/1.1.0                                                                                                                                                                                                                                               \n",
      "-RECORD 19-----------------------------------------------------------------------------------------------------------------------------------------------------------------------------------------------------------------------------------------------------------------------------------------------\n",
      " version             | 6                                                                                                                                                                                                                                                                                 \n",
      " timestamp           | 2022-02-10 15:59:09.971                                                                                                                                                                                                                                                           \n",
      " userId              | null                                                                                                                                                                                                                                                                              \n",
      " userName            | null                                                                                                                                                                                                                                                                              \n",
      " operation           | DELETE                                                                                                                                                                                                                                                                            \n",
      " operationParameters | {predicate -> [\"(user_id = 1L)\"]}                                                                                                                                                                                                                                                 \n",
      " job                 | null                                                                                                                                                                                                                                                                              \n",
      " notebook            | null                                                                                                                                                                                                                                                                              \n",
      " clusterId           | null                                                                                                                                                                                                                                                                              \n",
      " readVersion         | 5                                                                                                                                                                                                                                                                                 \n",
      " isolationLevel      | Serializable                                                                                                                                                                                                                                                                      \n",
      " isBlindAppend       | false                                                                                                                                                                                                                                                                             \n",
      " operationMetrics    | {numRemovedFiles -> 1, numCopiedRows -> 199, executionTimeMs -> 690, numDeletedRows -> 1, scanTimeMs -> 573, numAddedFiles -> 1, rewriteTimeMs -> 117}                                                                                                                            \n",
      " userMetadata        | null                                                                                                                                                                                                                                                                              \n",
      " engineInfo          | Apache-Spark/3.2.1 Delta-Lake/1.1.0                                                                                                                                                                                                                                               \n",
      "only showing top 20 rows\n",
      "\n"
     ]
    }
   ],
   "source": [
    "deltaTable = DeltaTable.forPath(spark, path_bronze[\"user\"])\n",
    "deltaTable.history().show(truncate=False, vertical=True)"
   ]
  },
  {
   "cell_type": "markdown",
   "id": "bfdfb1a2",
   "metadata": {},
   "source": [
    "## Delete"
   ]
  },
  {
   "cell_type": "code",
   "execution_count": 23,
   "id": "220858f8",
   "metadata": {},
   "outputs": [
    {
     "name": "stdout",
     "output_type": "stream",
     "text": [
      "ANTES DE DELETAR\n",
      "+-------+---------------------+\n",
      "|user_id|email                |\n",
      "+-------+---------------------+\n",
      "|1      |alyse.ortiz@email.com|\n",
      "+-------+---------------------+\n",
      "\n",
      "APÓS DELETAR\n",
      "+-------+-----+\n",
      "|user_id|email|\n",
      "+-------+-----+\n",
      "+-------+-----+\n",
      "\n"
     ]
    }
   ],
   "source": [
    "print(\"ANTES DE DELETAR\")\n",
    "history = deltaTable.toDF()\n",
    "history.where(\"user_id == 1\").show(truncate=False)\n",
    "\n",
    "print(\"APÓS DELETAR\")\n",
    "deltaTable.delete(\n",
    "    \"user_id == 1\"\n",
    ")\n",
    "\n",
    "history = deltaTable.toDF()\n",
    "history.where(\"user_id == 1\").show(truncate=False)"
   ]
  },
  {
   "cell_type": "markdown",
   "id": "909876ea",
   "metadata": {},
   "source": [
    "## Update"
   ]
  },
  {
   "cell_type": "code",
   "execution_count": 26,
   "id": "49f53da2",
   "metadata": {},
   "outputs": [
    {
     "name": "stdout",
     "output_type": "stream",
     "text": [
      "ANTES DE ATUALIZAR\n",
      "+-------+------------------------+\n",
      "|user_id|email                   |\n",
      "+-------+------------------------+\n",
      "|3395   |marcos.collier@email.com|\n",
      "+-------+------------------------+\n",
      "\n",
      "APÓS ATUALIZAR\n",
      "+-------+------------------+\n",
      "|user_id|email             |\n",
      "+-------+------------------+\n",
      "|3395   |pucminas@gmail.com|\n",
      "+-------+------------------+\n",
      "\n"
     ]
    }
   ],
   "source": [
    "print(\"ANTES DE ATUALIZAR\")\n",
    "history = deltaTable.toDF()\n",
    "history.where(\"email == 'marcos.collier@email.com'\").show(truncate=False)\n",
    "\n",
    "print(\"APÓS ATUALIZAR\")\n",
    "deltaTable.update(\n",
    "    condition = \"email = 'marcos.collier@email.com'\",\n",
    "    set = { \"email\": \"'pucminas@gmail.com'\" } \n",
    ")\n",
    "\n",
    "history = deltaTable.toDF()\n",
    "history.where(\"email == 'pucminas@gmail.com'\").show(truncate=False)"
   ]
  },
  {
   "cell_type": "markdown",
   "id": "19fe5621",
   "metadata": {},
   "source": [
    "## Gerando novos dados para serem atualizados de forma Incremental"
   ]
  },
  {
   "cell_type": "code",
   "execution_count": 27,
   "id": "c67b2db9",
   "metadata": {},
   "outputs": [
    {
     "data": {
      "text/plain": [
       "[('3395', 'pucminas3@gmail.com'), ('3650', 'pucminas4@gmail.com.br')]"
      ]
     },
     "execution_count": 27,
     "metadata": {},
     "output_type": "execute_result"
    }
   ],
   "source": [
    "items = [\n",
    "        (\"3395\", \"pucminas3@gmail.com\"), \n",
    "        (\"3650\", \"pucminas4@gmail.com.br\")\n",
    "]\n",
    "\n",
    "items"
   ]
  },
  {
   "cell_type": "code",
   "execution_count": 28,
   "id": "ba1be5dd-0677-48e5-bdf4-a3fbc26f1054",
   "metadata": {},
   "outputs": [
    {
     "data": {
      "text/plain": [
       "['user_id', 'email']"
      ]
     },
     "execution_count": 28,
     "metadata": {},
     "output_type": "execute_result"
    }
   ],
   "source": [
    "cols = [\n",
    "        \"user_id\",\n",
    "        \"email\"\n",
    "]\n",
    "\n",
    "cols"
   ]
  },
  {
   "cell_type": "code",
   "execution_count": 34,
   "id": "e8c41674",
   "metadata": {},
   "outputs": [
    {
     "name": "stdout",
     "output_type": "stream",
     "text": [
      "NOVOS DADOS PARA ATUALIZAR\n",
      "+-------+----------------------+\n",
      "|user_id|email                 |\n",
      "+-------+----------------------+\n",
      "|3395   |pucminas3@gmail.com   |\n",
      "|3650   |pucminas4@gmail.com.br|\n",
      "+-------+----------------------+\n",
      "\n",
      "2\n",
      "DADOS DESATUALIZADOS\n",
      "+-------+------------------------+\n",
      "|user_id|email                   |\n",
      "+-------+------------------------+\n",
      "|3395   |marcos.collier@email.com|\n",
      "|3650   |jonah.barrows@email.com |\n",
      "+-------+------------------------+\n",
      "\n"
     ]
    },
    {
     "data": {
      "text/plain": [
       "800"
      ]
     },
     "execution_count": 34,
     "metadata": {},
     "output_type": "execute_result"
    }
   ],
   "source": [
    "print(\"NOVOS DADOS PARA ATUALIZAR\")\n",
    "df_new = spark.createDataFrame(items, cols)\n",
    "df_new.show(truncate=False)\n",
    "print(df_new.count())\n",
    "\n",
    "print(\"DADOS DESATUALIZADOS\")\n",
    "df_user.where(\"user_id in (3395, 3650)\").orderBy(\"user_id\").show(truncate=False)\n",
    "df_user.count()"
   ]
  },
  {
   "cell_type": "markdown",
   "id": "8c20b9dc",
   "metadata": {},
   "source": [
    "## Upserts"
   ]
  },
  {
   "cell_type": "code",
   "execution_count": null,
   "id": "c8f2e6cc-47ff-46e2-8b1e-7213073b48f7",
   "metadata": {},
   "outputs": [],
   "source": [
    "# !rm -rf /home/jovyan/work/datalake/s3/bronze/user/"
   ]
  },
  {
   "cell_type": "code",
   "execution_count": 35,
   "id": "216c482d",
   "metadata": {},
   "outputs": [],
   "source": [
    "(\n",
    "    deltaTable.alias(\"desatualizados\")\n",
    "    .merge(\n",
    "        df_new.alias(\"atualizados\"),\"desatualizados.user_id = atualizados.user_id\"\n",
    "    )\n",
    "    .whenMatchedUpdateAll(\n",
    "        condition = \"desatualizados.user_id = atualizados.user_id\"\n",
    "    )\n",
    "    .whenNotMatchedInsertAll()\n",
    "    .execute()\n",
    ")"
   ]
  },
  {
   "cell_type": "markdown",
   "id": "147ed670",
   "metadata": {},
   "source": [
    "## Após Upserts"
   ]
  },
  {
   "cell_type": "code",
   "execution_count": 40,
   "id": "144874a8",
   "metadata": {},
   "outputs": [
    {
     "name": "stdout",
     "output_type": "stream",
     "text": [
      "+-------+----------------------+\n",
      "|user_id|email                 |\n",
      "+-------+----------------------+\n",
      "|3395   |pucminas3@gmail.com   |\n",
      "|3650   |pucminas4@gmail.com.br|\n",
      "+-------+----------------------+\n",
      "\n"
     ]
    }
   ],
   "source": [
    "delta_atualizado = deltaTable.toDF()\n",
    "\n",
    "(\n",
    "    delta_atualizado\n",
    "    .where(\n",
    "        \"\"\"\n",
    "        user_id \n",
    "            in (3650, 3395)\n",
    "        \"\"\")\n",
    "    .show(truncate=False)\n",
    ")"
   ]
  },
  {
   "cell_type": "markdown",
   "id": "61d9f16d",
   "metadata": {},
   "source": [
    "## Viagem no Tempo"
   ]
  },
  {
   "cell_type": "code",
   "execution_count": 41,
   "id": "1728ab5c",
   "metadata": {},
   "outputs": [],
   "source": [
    "history_delta = deltaTable.history()"
   ]
  },
  {
   "cell_type": "code",
   "execution_count": 42,
   "id": "fe0c6af9-b6ff-401c-9021-d9106da59857",
   "metadata": {},
   "outputs": [
    {
     "name": "stdout",
     "output_type": "stream",
     "text": [
      "-RECORD 0------------------------------------------------------------------------------------------------------------------------------------------------------------------------------------------------------------------------------------------------------------------------------------------------\n",
      " version             | 21                                                                                                                                                                                                                                                                                \n",
      " timestamp           | 2022-02-10 23:55:00.826                                                                                                                                                                                                                                                           \n",
      " userId              | null                                                                                                                                                                                                                                                                              \n",
      " userName            | null                                                                                                                                                                                                                                                                              \n",
      " operation           | MERGE                                                                                                                                                                                                                                                                             \n",
      " operationParameters | {predicate -> (desatualizados.user_id = CAST(atualizados.user_id AS BIGINT)), matchedPredicates -> [{\"predicate\":\"(desatualizados.user_id = CAST(atualizados.user_id AS BIGINT))\",\"actionType\":\"update\"}], notMatchedPredicates -> [{\"actionType\":\"insert\"}]}                     \n",
      " job                 | null                                                                                                                                                                                                                                                                              \n",
      " notebook            | null                                                                                                                                                                                                                                                                              \n",
      " clusterId           | null                                                                                                                                                                                                                                                                              \n",
      " readVersion         | 20                                                                                                                                                                                                                                                                                \n",
      " isolationLevel      | Serializable                                                                                                                                                                                                                                                                      \n",
      " isBlindAppend       | false                                                                                                                                                                                                                                                                             \n",
      " operationMetrics    | {numTargetRowsCopied -> 397, numTargetRowsDeleted -> 0, numTargetFilesAdded -> 1, executionTimeMs -> 1543, numTargetRowsInserted -> 0, scanTimeMs -> 1034, numTargetRowsUpdated -> 2, numOutputRows -> 399, numSourceRows -> 2, numTargetFilesRemoved -> 2, rewriteTimeMs -> 498} \n",
      " userMetadata        | null                                                                                                                                                                                                                                                                              \n",
      " engineInfo          | Apache-Spark/3.2.1 Delta-Lake/1.1.0                                                                                                                                                                                                                                               \n",
      "-RECORD 1------------------------------------------------------------------------------------------------------------------------------------------------------------------------------------------------------------------------------------------------------------------------------------------------\n",
      " version             | 20                                                                                                                                                                                                                                                                                \n",
      " timestamp           | 2022-02-10 23:50:09.218                                                                                                                                                                                                                                                           \n",
      " userId              | null                                                                                                                                                                                                                                                                              \n",
      " userName            | null                                                                                                                                                                                                                                                                              \n",
      " operation           | UPDATE                                                                                                                                                                                                                                                                            \n",
      " operationParameters | {predicate -> (email#5545 = marcos.collier@email.com)}                                                                                                                                                                                                                            \n",
      " job                 | null                                                                                                                                                                                                                                                                              \n",
      " notebook            | null                                                                                                                                                                                                                                                                              \n",
      " clusterId           | null                                                                                                                                                                                                                                                                              \n",
      " readVersion         | 19                                                                                                                                                                                                                                                                                \n",
      " isolationLevel      | Serializable                                                                                                                                                                                                                                                                      \n",
      " isBlindAppend       | false                                                                                                                                                                                                                                                                             \n",
      " operationMetrics    | {numRemovedFiles -> 1, numCopiedRows -> 199, executionTimeMs -> 398, scanTimeMs -> 294, numAddedFiles -> 1, numUpdatedRows -> 1, rewriteTimeMs -> 104}                                                                                                                            \n",
      " userMetadata        | null                                                                                                                                                                                                                                                                              \n",
      " engineInfo          | Apache-Spark/3.2.1 Delta-Lake/1.1.0                                                                                                                                                                                                                                               \n",
      "-RECORD 2------------------------------------------------------------------------------------------------------------------------------------------------------------------------------------------------------------------------------------------------------------------------------------------------\n",
      " version             | 19                                                                                                                                                                                                                                                                                \n",
      " timestamp           | 2022-02-10 23:48:01.631                                                                                                                                                                                                                                                           \n",
      " userId              | null                                                                                                                                                                                                                                                                              \n",
      " userName            | null                                                                                                                                                                                                                                                                              \n",
      " operation           | DELETE                                                                                                                                                                                                                                                                            \n",
      " operationParameters | {predicate -> [\"(user_id = 1L)\"]}                                                                                                                                                                                                                                                 \n",
      " job                 | null                                                                                                                                                                                                                                                                              \n",
      " notebook            | null                                                                                                                                                                                                                                                                              \n",
      " clusterId           | null                                                                                                                                                                                                                                                                              \n",
      " readVersion         | 18                                                                                                                                                                                                                                                                                \n",
      " isolationLevel      | Serializable                                                                                                                                                                                                                                                                      \n",
      " isBlindAppend       | false                                                                                                                                                                                                                                                                             \n",
      " operationMetrics    | {numRemovedFiles -> 1, numCopiedRows -> 199, executionTimeMs -> 576, numDeletedRows -> 1, scanTimeMs -> 458, numAddedFiles -> 1, rewriteTimeMs -> 118}                                                                                                                            \n",
      " userMetadata        | null                                                                                                                                                                                                                                                                              \n",
      " engineInfo          | Apache-Spark/3.2.1 Delta-Lake/1.1.0                                                                                                                                                                                                                                               \n",
      "-RECORD 3------------------------------------------------------------------------------------------------------------------------------------------------------------------------------------------------------------------------------------------------------------------------------------------------\n",
      " version             | 18                                                                                                                                                                                                                                                                                \n",
      " timestamp           | 2022-02-10 23:46:57.332                                                                                                                                                                                                                                                           \n",
      " userId              | null                                                                                                                                                                                                                                                                              \n",
      " userName            | null                                                                                                                                                                                                                                                                              \n",
      " operation           | WRITE                                                                                                                                                                                                                                                                             \n",
      " operationParameters | {mode -> Overwrite, partitionBy -> []}                                                                                                                                                                                                                                            \n",
      " job                 | null                                                                                                                                                                                                                                                                              \n",
      " notebook            | null                                                                                                                                                                                                                                                                              \n",
      " clusterId           | null                                                                                                                                                                                                                                                                              \n",
      " readVersion         | 17                                                                                                                                                                                                                                                                                \n",
      " isolationLevel      | Serializable                                                                                                                                                                                                                                                                      \n",
      " isBlindAppend       | false                                                                                                                                                                                                                                                                             \n",
      " operationMetrics    | {numFiles -> 4, numOutputRows -> 800, numOutputBytes -> 18915}                                                                                                                                                                                                                    \n",
      " userMetadata        | null                                                                                                                                                                                                                                                                              \n",
      " engineInfo          | Apache-Spark/3.2.1 Delta-Lake/1.1.0                                                                                                                                                                                                                                               \n",
      "-RECORD 4------------------------------------------------------------------------------------------------------------------------------------------------------------------------------------------------------------------------------------------------------------------------------------------------\n",
      " version             | 17                                                                                                                                                                                                                                                                                \n",
      " timestamp           | 2022-02-10 23:46:31.807                                                                                                                                                                                                                                                           \n",
      " userId              | null                                                                                                                                                                                                                                                                              \n",
      " userName            | null                                                                                                                                                                                                                                                                              \n",
      " operation           | WRITE                                                                                                                                                                                                                                                                             \n",
      " operationParameters | {mode -> Append, partitionBy -> []}                                                                                                                                                                                                                                               \n",
      " job                 | null                                                                                                                                                                                                                                                                              \n",
      " notebook            | null                                                                                                                                                                                                                                                                              \n",
      " clusterId           | null                                                                                                                                                                                                                                                                              \n",
      " readVersion         | 16                                                                                                                                                                                                                                                                                \n",
      " isolationLevel      | Serializable                                                                                                                                                                                                                                                                      \n",
      " isBlindAppend       | true                                                                                                                                                                                                                                                                              \n",
      " operationMetrics    | {numFiles -> 4, numOutputRows -> 800, numOutputBytes -> 18915}                                                                                                                                                                                                                    \n",
      " userMetadata        | null                                                                                                                                                                                                                                                                              \n",
      " engineInfo          | Apache-Spark/3.2.1 Delta-Lake/1.1.0                                                                                                                                                                                                                                               \n",
      "-RECORD 5------------------------------------------------------------------------------------------------------------------------------------------------------------------------------------------------------------------------------------------------------------------------------------------------\n",
      " version             | 16                                                                                                                                                                                                                                                                                \n",
      " timestamp           | 2022-02-10 23:45:59.469                                                                                                                                                                                                                                                           \n",
      " userId              | null                                                                                                                                                                                                                                                                              \n",
      " userName            | null                                                                                                                                                                                                                                                                              \n",
      " operation           | WRITE                                                                                                                                                                                                                                                                             \n",
      " operationParameters | {mode -> Overwrite, partitionBy -> []}                                                                                                                                                                                                                                            \n",
      " job                 | null                                                                                                                                                                                                                                                                              \n",
      " notebook            | null                                                                                                                                                                                                                                                                              \n",
      " clusterId           | null                                                                                                                                                                                                                                                                              \n",
      " readVersion         | 15                                                                                                                                                                                                                                                                                \n",
      " isolationLevel      | Serializable                                                                                                                                                                                                                                                                      \n",
      " isBlindAppend       | false                                                                                                                                                                                                                                                                             \n",
      " operationMetrics    | {numFiles -> 4, numOutputRows -> 800, numOutputBytes -> 18915}                                                                                                                                                                                                                    \n",
      " userMetadata        | null                                                                                                                                                                                                                                                                              \n",
      " engineInfo          | Apache-Spark/3.2.1 Delta-Lake/1.1.0                                                                                                                                                                                                                                               \n",
      "-RECORD 6------------------------------------------------------------------------------------------------------------------------------------------------------------------------------------------------------------------------------------------------------------------------------------------------\n",
      " version             | 15                                                                                                                                                                                                                                                                                \n",
      " timestamp           | 2022-02-10 23:41:50.094                                                                                                                                                                                                                                                           \n",
      " userId              | null                                                                                                                                                                                                                                                                              \n",
      " userName            | null                                                                                                                                                                                                                                                                              \n",
      " operation           | WRITE                                                                                                                                                                                                                                                                             \n",
      " operationParameters | {mode -> Overwrite, partitionBy -> []}                                                                                                                                                                                                                                            \n",
      " job                 | null                                                                                                                                                                                                                                                                              \n",
      " notebook            | null                                                                                                                                                                                                                                                                              \n",
      " clusterId           | null                                                                                                                                                                                                                                                                              \n",
      " readVersion         | 14                                                                                                                                                                                                                                                                                \n",
      " isolationLevel      | Serializable                                                                                                                                                                                                                                                                      \n",
      " isBlindAppend       | false                                                                                                                                                                                                                                                                             \n",
      " operationMetrics    | {numFiles -> 4, numOutputRows -> 800, numOutputBytes -> 18915}                                                                                                                                                                                                                    \n",
      " userMetadata        | null                                                                                                                                                                                                                                                                              \n",
      " engineInfo          | Apache-Spark/3.2.1 Delta-Lake/1.1.0                                                                                                                                                                                                                                               \n",
      "-RECORD 7------------------------------------------------------------------------------------------------------------------------------------------------------------------------------------------------------------------------------------------------------------------------------------------------\n",
      " version             | 14                                                                                                                                                                                                                                                                                \n",
      " timestamp           | 2022-02-10 23:39:22.25                                                                                                                                                                                                                                                            \n",
      " userId              | null                                                                                                                                                                                                                                                                              \n",
      " userName            | null                                                                                                                                                                                                                                                                              \n",
      " operation           | WRITE                                                                                                                                                                                                                                                                             \n",
      " operationParameters | {mode -> Overwrite, partitionBy -> []}                                                                                                                                                                                                                                            \n",
      " job                 | null                                                                                                                                                                                                                                                                              \n",
      " notebook            | null                                                                                                                                                                                                                                                                              \n",
      " clusterId           | null                                                                                                                                                                                                                                                                              \n",
      " readVersion         | 13                                                                                                                                                                                                                                                                                \n",
      " isolationLevel      | Serializable                                                                                                                                                                                                                                                                      \n",
      " isBlindAppend       | false                                                                                                                                                                                                                                                                             \n",
      " operationMetrics    | {numFiles -> 4, numOutputRows -> 800, numOutputBytes -> 18915}                                                                                                                                                                                                                    \n",
      " userMetadata        | null                                                                                                                                                                                                                                                                              \n",
      " engineInfo          | Apache-Spark/3.2.1 Delta-Lake/1.1.0                                                                                                                                                                                                                                               \n",
      "-RECORD 8------------------------------------------------------------------------------------------------------------------------------------------------------------------------------------------------------------------------------------------------------------------------------------------------\n",
      " version             | 13                                                                                                                                                                                                                                                                                \n",
      " timestamp           | 2022-02-10 23:39:14.852                                                                                                                                                                                                                                                           \n",
      " userId              | null                                                                                                                                                                                                                                                                              \n",
      " userName            | null                                                                                                                                                                                                                                                                              \n",
      " operation           | WRITE                                                                                                                                                                                                                                                                             \n",
      " operationParameters | {mode -> Overwrite, partitionBy -> []}                                                                                                                                                                                                                                            \n",
      " job                 | null                                                                                                                                                                                                                                                                              \n",
      " notebook            | null                                                                                                                                                                                                                                                                              \n",
      " clusterId           | null                                                                                                                                                                                                                                                                              \n",
      " readVersion         | 12                                                                                                                                                                                                                                                                                \n",
      " isolationLevel      | Serializable                                                                                                                                                                                                                                                                      \n",
      " isBlindAppend       | false                                                                                                                                                                                                                                                                             \n",
      " operationMetrics    | {numFiles -> 4, numOutputRows -> 800, numOutputBytes -> 18915}                                                                                                                                                                                                                    \n",
      " userMetadata        | null                                                                                                                                                                                                                                                                              \n",
      " engineInfo          | Apache-Spark/3.2.1 Delta-Lake/1.1.0                                                                                                                                                                                                                                               \n",
      "-RECORD 9------------------------------------------------------------------------------------------------------------------------------------------------------------------------------------------------------------------------------------------------------------------------------------------------\n",
      " version             | 12                                                                                                                                                                                                                                                                                \n",
      " timestamp           | 2022-02-10 23:38:06.368                                                                                                                                                                                                                                                           \n",
      " userId              | null                                                                                                                                                                                                                                                                              \n",
      " userName            | null                                                                                                                                                                                                                                                                              \n",
      " operation           | WRITE                                                                                                                                                                                                                                                                             \n",
      " operationParameters | {mode -> Overwrite, partitionBy -> []}                                                                                                                                                                                                                                            \n",
      " job                 | null                                                                                                                                                                                                                                                                              \n",
      " notebook            | null                                                                                                                                                                                                                                                                              \n",
      " clusterId           | null                                                                                                                                                                                                                                                                              \n",
      " readVersion         | 11                                                                                                                                                                                                                                                                                \n",
      " isolationLevel      | Serializable                                                                                                                                                                                                                                                                      \n",
      " isBlindAppend       | false                                                                                                                                                                                                                                                                             \n",
      " operationMetrics    | {numFiles -> 4, numOutputRows -> 800, numOutputBytes -> 18915}                                                                                                                                                                                                                    \n",
      " userMetadata        | null                                                                                                                                                                                                                                                                              \n",
      " engineInfo          | Apache-Spark/3.2.1 Delta-Lake/1.1.0                                                                                                                                                                                                                                               \n",
      "only showing top 10 rows\n",
      "\n"
     ]
    }
   ],
   "source": [
    "history_delta.show(\n",
    "    vertical=True,  \n",
    "    truncate=False,\n",
    "    n=10\n",
    ")"
   ]
  },
  {
   "cell_type": "code",
   "execution_count": 50,
   "id": "03c87ee4",
   "metadata": {},
   "outputs": [
    {
     "name": "stdout",
     "output_type": "stream",
     "text": [
      "+-------+---------+-----------------------+--------------------------------------------------------------+\n",
      "|version|operation|timestamp              |operationMetrics                                              |\n",
      "+-------+---------+-----------------------+--------------------------------------------------------------+\n",
      "|18     |WRITE    |2022-02-10 23:46:57.332|{numFiles -> 4, numOutputRows -> 800, numOutputBytes -> 18915}|\n",
      "|17     |WRITE    |2022-02-10 23:46:31.807|{numFiles -> 4, numOutputRows -> 800, numOutputBytes -> 18915}|\n",
      "|16     |WRITE    |2022-02-10 23:45:59.469|{numFiles -> 4, numOutputRows -> 800, numOutputBytes -> 18915}|\n",
      "|15     |WRITE    |2022-02-10 23:41:50.094|{numFiles -> 4, numOutputRows -> 800, numOutputBytes -> 18915}|\n",
      "|14     |WRITE    |2022-02-10 23:39:22.25 |{numFiles -> 4, numOutputRows -> 800, numOutputBytes -> 18915}|\n",
      "|13     |WRITE    |2022-02-10 23:39:14.852|{numFiles -> 4, numOutputRows -> 800, numOutputBytes -> 18915}|\n",
      "|12     |WRITE    |2022-02-10 23:38:06.368|{numFiles -> 4, numOutputRows -> 800, numOutputBytes -> 18915}|\n",
      "|11     |WRITE    |2022-02-10 15:59:51.732|{numFiles -> 4, numOutputRows -> 800, numOutputBytes -> 18915}|\n",
      "|10     |WRITE    |2022-02-10 15:59:49.383|{numFiles -> 4, numOutputRows -> 800, numOutputBytes -> 18915}|\n",
      "|9      |WRITE    |2022-02-10 15:59:47.69 |{numFiles -> 4, numOutputRows -> 800, numOutputBytes -> 20668}|\n",
      "|5      |WRITE    |2022-02-10 15:59:07.196|{numFiles -> 4, numOutputRows -> 800, numOutputBytes -> 18915}|\n",
      "|4      |WRITE    |2022-02-10 15:49:00.745|{numFiles -> 4, numOutputRows -> 800, numOutputBytes -> 18915}|\n",
      "|0      |WRITE    |2022-02-10 15:41:17.673|{numFiles -> 4, numOutputRows -> 800, numOutputBytes -> 18915}|\n",
      "+-------+---------+-----------------------+--------------------------------------------------------------+\n",
      "\n"
     ]
    }
   ],
   "source": [
    "(\n",
    "    history_delta\n",
    "    .select(\"version\",\n",
    "            \"operation\",\n",
    "            \"timestamp\",\n",
    "            \"operationMetrics\"\n",
    "    )\n",
    "    .where(\"operation == 'WRITE'\")\n",
    "    .show(truncate=False)\n",
    ")"
   ]
  },
  {
   "cell_type": "code",
   "execution_count": 51,
   "id": "91dbbd83",
   "metadata": {},
   "outputs": [
    {
     "name": "stdout",
     "output_type": "stream",
     "text": [
      "VIAJANDO NO TEMPO PARA A VERSÃO 0 DA INGESTÃO\n",
      "+-------+------------------------+\n",
      "|user_id|email                   |\n",
      "+-------+------------------------+\n",
      "|3395   |marcos.collier@email.com|\n",
      "|3650   |jonah.barrows@email.com |\n",
      "+-------+------------------------+\n",
      "\n"
     ]
    }
   ],
   "source": [
    "time_travel_version_0 = (\n",
    "    spark\n",
    "    .read\n",
    "    .format(\"delta\")\n",
    "    .option(\"versionAsOf\", \"0\")\n",
    "    .load(path_bronze[\"user\"])\n",
    ")\n",
    "\n",
    "print(\"VIAJANDO NO TEMPO PARA A VERSÃO 0 DA INGESTÃO\")\n",
    "(\n",
    "    time_travel_version_0\n",
    "    .where(\"user_id in (3650, 3395)\")\n",
    "    .show(truncate=False)\n",
    ")"
   ]
  },
  {
   "cell_type": "code",
   "execution_count": 54,
   "id": "9871479d",
   "metadata": {},
   "outputs": [
    {
     "name": "stdout",
     "output_type": "stream",
     "text": [
      "-RECORD 0--------------------------------------------------------------------------\n",
      " version          | 18                                                             \n",
      " operation        | WRITE                                                          \n",
      " timestamp        | 2022-02-10 23:46:57.332                                        \n",
      " operationMetrics | {numFiles -> 4, numOutputRows -> 800, numOutputBytes -> 18915} \n",
      "-RECORD 1--------------------------------------------------------------------------\n",
      " version          | 17                                                             \n",
      " operation        | WRITE                                                          \n",
      " timestamp        | 2022-02-10 23:46:31.807                                        \n",
      " operationMetrics | {numFiles -> 4, numOutputRows -> 800, numOutputBytes -> 18915} \n",
      "-RECORD 2--------------------------------------------------------------------------\n",
      " version          | 16                                                             \n",
      " operation        | WRITE                                                          \n",
      " timestamp        | 2022-02-10 23:45:59.469                                        \n",
      " operationMetrics | {numFiles -> 4, numOutputRows -> 800, numOutputBytes -> 18915} \n",
      "-RECORD 3--------------------------------------------------------------------------\n",
      " version          | 15                                                             \n",
      " operation        | WRITE                                                          \n",
      " timestamp        | 2022-02-10 23:41:50.094                                        \n",
      " operationMetrics | {numFiles -> 4, numOutputRows -> 800, numOutputBytes -> 18915} \n",
      "-RECORD 4--------------------------------------------------------------------------\n",
      " version          | 14                                                             \n",
      " operation        | WRITE                                                          \n",
      " timestamp        | 2022-02-10 23:39:22.25                                         \n",
      " operationMetrics | {numFiles -> 4, numOutputRows -> 800, numOutputBytes -> 18915} \n",
      "-RECORD 5--------------------------------------------------------------------------\n",
      " version          | 13                                                             \n",
      " operation        | WRITE                                                          \n",
      " timestamp        | 2022-02-10 23:39:14.852                                        \n",
      " operationMetrics | {numFiles -> 4, numOutputRows -> 800, numOutputBytes -> 18915} \n",
      "-RECORD 6--------------------------------------------------------------------------\n",
      " version          | 12                                                             \n",
      " operation        | WRITE                                                          \n",
      " timestamp        | 2022-02-10 23:38:06.368                                        \n",
      " operationMetrics | {numFiles -> 4, numOutputRows -> 800, numOutputBytes -> 18915} \n",
      "-RECORD 7--------------------------------------------------------------------------\n",
      " version          | 11                                                             \n",
      " operation        | WRITE                                                          \n",
      " timestamp        | 2022-02-10 15:59:51.732                                        \n",
      " operationMetrics | {numFiles -> 4, numOutputRows -> 800, numOutputBytes -> 18915} \n",
      "-RECORD 8--------------------------------------------------------------------------\n",
      " version          | 10                                                             \n",
      " operation        | WRITE                                                          \n",
      " timestamp        | 2022-02-10 15:59:49.383                                        \n",
      " operationMetrics | {numFiles -> 4, numOutputRows -> 800, numOutputBytes -> 18915} \n",
      "-RECORD 9--------------------------------------------------------------------------\n",
      " version          | 9                                                              \n",
      " operation        | WRITE                                                          \n",
      " timestamp        | 2022-02-10 15:59:47.69                                         \n",
      " operationMetrics | {numFiles -> 4, numOutputRows -> 800, numOutputBytes -> 20668} \n",
      "-RECORD 10-------------------------------------------------------------------------\n",
      " version          | 5                                                              \n",
      " operation        | WRITE                                                          \n",
      " timestamp        | 2022-02-10 15:59:07.196                                        \n",
      " operationMetrics | {numFiles -> 4, numOutputRows -> 800, numOutputBytes -> 18915} \n",
      "-RECORD 11-------------------------------------------------------------------------\n",
      " version          | 4                                                              \n",
      " operation        | WRITE                                                          \n",
      " timestamp        | 2022-02-10 15:49:00.745                                        \n",
      " operationMetrics | {numFiles -> 4, numOutputRows -> 800, numOutputBytes -> 18915} \n",
      "-RECORD 12-------------------------------------------------------------------------\n",
      " version          | 0                                                              \n",
      " operation        | WRITE                                                          \n",
      " timestamp        | 2022-02-10 15:41:17.673                                        \n",
      " operationMetrics | {numFiles -> 4, numOutputRows -> 800, numOutputBytes -> 18915} \n",
      "\n"
     ]
    }
   ],
   "source": [
    "(\n",
    "    history_delta\n",
    "    .select(\"version\",\n",
    "            \"operation\",\n",
    "            \"timestamp\",\n",
    "            \"operationMetrics\"\n",
    "    )\n",
    "    .where(\"operation == 'WRITE'\")\n",
    "    .show(vertical=True, \n",
    "          truncate=False\n",
    "    )\n",
    ")"
   ]
  },
  {
   "cell_type": "code",
   "execution_count": 55,
   "id": "00179389",
   "metadata": {},
   "outputs": [
    {
     "name": "stdout",
     "output_type": "stream",
     "text": [
      "VIAJANDO NO TEMPO PARA DATA/HORA QUE HOUVE O UPSERT DOS DADOS\n",
      "+-------+------------------------+\n",
      "|user_id|email                   |\n",
      "+-------+------------------------+\n",
      "|3395   |marcos.collier@email.com|\n",
      "|3650   |jonah.barrows@email.com |\n",
      "+-------+------------------------+\n",
      "\n"
     ]
    }
   ],
   "source": [
    "time_travel_timestamp = (\n",
    "    spark\n",
    "    .read\n",
    "    .format(\"delta\")\n",
    "    .option(\"timestampAsOf\", \"2022-02-10 23:45:59.469\") # register timestamp\n",
    "    .load(path_bronze[\"user\"])\n",
    ")\n",
    "\n",
    "print(\"VIAJANDO NO TEMPO PARA DATA/HORA QUE HOUVE O UPSERT DOS DADOS\")\n",
    "\n",
    "time_travel_timestamp.where(\"user_id in (3650, 3395)\").show(truncate=False)"
   ]
  },
  {
   "cell_type": "markdown",
   "id": "b101ede6",
   "metadata": {},
   "source": [
    "## Comparando modificações entre diferentes versões do Delta"
   ]
  },
  {
   "cell_type": "code",
   "execution_count": 61,
   "id": "dd0af398",
   "metadata": {},
   "outputs": [],
   "source": [
    "#time_travel_timestamp.exceptAll(time_travel_version_0).show()"
   ]
  },
  {
   "cell_type": "markdown",
   "id": "c1810ab5",
   "metadata": {},
   "source": [
    "## Evolution Schema (Evolução da estrutura da Tabela)"
   ]
  },
  {
   "cell_type": "markdown",
   "id": "1d042f62-b503-4f56-affd-db013a9f00fc",
   "metadata": {},
   "source": [
    "## Concistencia do DADO (ACID) - C"
   ]
  },
  {
   "cell_type": "code",
   "execution_count": 62,
   "id": "ccc85f6e-1c93-4fd0-a540-cb137ec2471d",
   "metadata": {},
   "outputs": [
    {
     "name": "stdout",
     "output_type": "stream",
     "text": [
      "********************\n",
      "NOVA COLUNA A SER INSERIDA\n",
      "root\n",
      " |-- user_id: long (nullable = true)\n",
      " |-- email: string (nullable = true)\n",
      " |-- gender: string (nullable = true)\n",
      "\n",
      "********************\n",
      "ÚLTIMO ESTADO DA TABELA DELTA\n",
      "root\n",
      " |-- user_id: long (nullable = true)\n",
      " |-- email: string (nullable = true)\n",
      "\n"
     ]
    }
   ],
   "source": [
    "df_user = (\n",
    "    spark\n",
    "    .read\n",
    "    .format(\"json\")\n",
    "    .load(path_landing[\"user\"])\n",
    "    .select(\"user_id\", \"email\", \"gender\")\n",
    ")\n",
    "\n",
    "print(\"*\"*20)\n",
    "print(\"NOVA COLUNA A SER INSERIDA\")\n",
    "df_user.printSchema()\n",
    "print(\"*\"*20)\n",
    "print(\"ÚLTIMO ESTADO DA TABELA DELTA\")\n",
    "delta_atualizado.printSchema()"
   ]
  },
  {
   "cell_type": "markdown",
   "id": "b4214c45-e25e-4dea-873f-657bd98cb283",
   "metadata": {},
   "source": [
    "## Tentativa de Sobrescrever o dado sem evoluir o Schema (Concistência)"
   ]
  },
  {
   "cell_type": "code",
   "execution_count": 64,
   "id": "d27e07f6-2837-4ece-a2da-529bcabaa0d4",
   "metadata": {},
   "outputs": [],
   "source": [
    "# (\n",
    "#     df_user\n",
    "#     .write\n",
    "#     .format(\"delta\")\n",
    "#     .mode(\"overwrite\")\n",
    "#     .save(path_bronze[\"user\"])\n",
    "# )"
   ]
  },
  {
   "cell_type": "markdown",
   "id": "43487a9f-0134-4e53-a4cb-b44cc460e4a7",
   "metadata": {},
   "source": [
    "## Realizando a evolução do Schema com a opção MergeSchema\n",
    "- A opção mergeSchema vai substituir tudo que não existir no último estado com o valor padrão nulo."
   ]
  },
  {
   "cell_type": "code",
   "execution_count": 65,
   "id": "bc7c590d",
   "metadata": {},
   "outputs": [],
   "source": [
    "(\n",
    "    df_user\n",
    "    .write\n",
    "    .format(\"delta\")\n",
    "    .mode(\"overwrite\")\n",
    "    .option(\"mergeSchema\", True)\n",
    "    .save(path_bronze[\"user\"])\n",
    ")"
   ]
  },
  {
   "cell_type": "markdown",
   "id": "77a3573b-f3ab-4b10-b48d-76478e067c07",
   "metadata": {},
   "source": [
    "## Lendo os dados após o MergeSchema"
   ]
  },
  {
   "cell_type": "code",
   "execution_count": 66,
   "id": "cd8be71c-4f5f-4a91-89fb-f990dd675eb6",
   "metadata": {},
   "outputs": [
    {
     "name": "stdout",
     "output_type": "stream",
     "text": [
      "********************\n",
      "ESTRUTURA DA TABELA DELTA\n",
      "root\n",
      " |-- user_id: long (nullable = true)\n",
      " |-- email: string (nullable = true)\n",
      " |-- gender: string (nullable = true)\n",
      "\n",
      "********************\n",
      "VISUALIZANDO TABELA DELTA\n",
      "+-------+--------------------+-----------+\n",
      "|user_id|               email|     gender|\n",
      "+-------+--------------------+-----------+\n",
      "|   9177|danilo.krajcik@em...|   Bigender|\n",
      "|   6483|santos.nitzsche@e...|Genderfluid|\n",
      "|   4060|dwain.bernier@ema...|       Male|\n",
      "|   4493|felica.schroeder@...|   Bigender|\n",
      "|   4069|jesica.nienow@ema...|Genderqueer|\n",
      "|   9060|delores.ratke@ema...|     Female|\n",
      "|   8413|dorian.macejkovic...|    Agender|\n",
      "|   4567| roman.rau@email.com| Polygender|\n",
      "|    327|heriberto.cronin@...| Non-binary|\n",
      "|   8234|richie.bahringer@...|Genderqueer|\n",
      "|   5541|lelia.quitzon@ema...|   Bigender|\n",
      "|   7531|lianne.heathcote@...| Polygender|\n",
      "|   2425|melani.turner@ema...|Genderqueer|\n",
      "|   5042|kellee.parisian@e...|       Male|\n",
      "|   5002|dannie.schroeder@...|    Agender|\n",
      "|   9083|diana.hudson@emai...| Non-binary|\n",
      "|   7880|kenneth.connelly@...| Polygender|\n",
      "|   3802|kristyn.dicki@ema...|     Female|\n",
      "|   7982| shyla.rau@email.com|Genderqueer|\n",
      "|   9925|keena.bahringer@e...| Non-binary|\n",
      "+-------+--------------------+-----------+\n",
      "only showing top 20 rows\n",
      "\n"
     ]
    }
   ],
   "source": [
    "df_user = (\n",
    "    spark\n",
    "    .read\n",
    "    .format(\"delta\")\n",
    "    .load(path_bronze[\"user\"])\n",
    "    .select(\"user_id\", \"email\", \"gender\")\n",
    ")\n",
    "\n",
    "print(\"*\"*20)\n",
    "print(\"ESTRUTURA DA TABELA DELTA\")\n",
    "df_user.printSchema()\n",
    "print(\"*\"*20)\n",
    "print(\"VISUALIZANDO TABELA DELTA\")\n",
    "df_user.show()"
   ]
  },
  {
   "cell_type": "markdown",
   "id": "c6a01fde-4aba-4925-9e37-aabfb7f00aac",
   "metadata": {},
   "source": [
    "## Removendo coluna e fazendo o MergeSchema novamente"
   ]
  },
  {
   "cell_type": "code",
   "execution_count": 67,
   "id": "e6b2fe23-b230-4247-a3fb-8c9849196242",
   "metadata": {},
   "outputs": [
    {
     "name": "stdout",
     "output_type": "stream",
     "text": [
      "root\n",
      " |-- user_id: long (nullable = true)\n",
      " |-- email: string (nullable = true)\n",
      "\n"
     ]
    }
   ],
   "source": [
    "df_user = df_user.drop(\"gender\")\n",
    "df_user.printSchema()"
   ]
  },
  {
   "cell_type": "code",
   "execution_count": 68,
   "id": "84cf6667-224e-405f-993f-76af28417d4b",
   "metadata": {},
   "outputs": [],
   "source": [
    "(\n",
    "    df_user\n",
    "    .write\n",
    "    .format(\"delta\")\n",
    "    .mode(\"overwrite\")\n",
    "    .option(\"mergeSchema\", True)\n",
    "    .save(path_bronze[\"user\"])\n",
    ")"
   ]
  },
  {
   "cell_type": "markdown",
   "id": "95a0df0f-cb67-4e0f-b473-cc63e2887124",
   "metadata": {},
   "source": [
    "## Lendo os dados após o MergeSchema"
   ]
  },
  {
   "cell_type": "code",
   "execution_count": 69,
   "id": "c3ee8baa-f0ad-498d-9101-d2c1f2048965",
   "metadata": {},
   "outputs": [
    {
     "name": "stdout",
     "output_type": "stream",
     "text": [
      "********************\n",
      "ESTRUTURA DA TABELA DELTA\n",
      "root\n",
      " |-- user_id: long (nullable = true)\n",
      " |-- email: string (nullable = true)\n",
      " |-- gender: string (nullable = true)\n",
      "\n",
      "********************\n",
      "VISUALIZANDO TABELA DELTA\n",
      "+-------+--------------------+------+\n",
      "|user_id|               email|gender|\n",
      "+-------+--------------------+------+\n",
      "|   9177|danilo.krajcik@em...|  null|\n",
      "|   6483|santos.nitzsche@e...|  null|\n",
      "|   4060|dwain.bernier@ema...|  null|\n",
      "|   4493|felica.schroeder@...|  null|\n",
      "|   4069|jesica.nienow@ema...|  null|\n",
      "|   9060|delores.ratke@ema...|  null|\n",
      "|   8413|dorian.macejkovic...|  null|\n",
      "|   4567| roman.rau@email.com|  null|\n",
      "|    327|heriberto.cronin@...|  null|\n",
      "|   8234|richie.bahringer@...|  null|\n",
      "|   5541|lelia.quitzon@ema...|  null|\n",
      "|   7531|lianne.heathcote@...|  null|\n",
      "|   2425|melani.turner@ema...|  null|\n",
      "|   5042|kellee.parisian@e...|  null|\n",
      "|   5002|dannie.schroeder@...|  null|\n",
      "|   9083|diana.hudson@emai...|  null|\n",
      "|   7880|kenneth.connelly@...|  null|\n",
      "|   3802|kristyn.dicki@ema...|  null|\n",
      "|   7982| shyla.rau@email.com|  null|\n",
      "|   9925|keena.bahringer@e...|  null|\n",
      "+-------+--------------------+------+\n",
      "only showing top 20 rows\n",
      "\n"
     ]
    }
   ],
   "source": [
    "df_user = (\n",
    "    spark\n",
    "    .read\n",
    "    .format(\"delta\")\n",
    "    .load(path_bronze[\"user\"])\n",
    "    .select(\"user_id\", \"email\", \"gender\")\n",
    ")\n",
    "\n",
    "print(\"*\"*20)\n",
    "print(\"ESTRUTURA DA TABELA DELTA\")\n",
    "df_user.printSchema()\n",
    "print(\"*\"*20)\n",
    "print(\"VISUALIZANDO TABELA DELTA\")\n",
    "df_user.show()"
   ]
  },
  {
   "cell_type": "markdown",
   "id": "04edb6d3",
   "metadata": {},
   "source": [
    "## Realizando a evolução do Schema com a opção Overwrite Schema\n",
    "- A opção Overwrite Schema vai gravar uma nova versão da tabela delta removendo a coluna de forma literal."
   ]
  },
  {
   "cell_type": "code",
   "execution_count": 74,
   "id": "1a6e76d2",
   "metadata": {},
   "outputs": [
    {
     "name": "stdout",
     "output_type": "stream",
     "text": [
      "********************\n",
      "ESTRUTURA DA TABELA DELTA\n",
      "root\n",
      " |-- user_id: long (nullable = true)\n",
      " |-- email: string (nullable = true)\n",
      "\n",
      "********************\n",
      "VISUALIZANDO TABELA DELTA\n",
      "+-------+--------------------+\n",
      "|user_id|               email|\n",
      "+-------+--------------------+\n",
      "|   1703|daron.bailey@emai...|\n",
      "|   3650|jonah.barrows@ema...|\n",
      "|   8809|carla.hansen@emai...|\n",
      "|   4606|tomas.ledner@emai...|\n",
      "|      1|alyse.ortiz@email...|\n",
      "|   9245|russell.kulas@ema...|\n",
      "|   3425|armida.lehner@ema...|\n",
      "|   4264|tad.sanford@email...|\n",
      "|   1668|rosia.jones@email...|\n",
      "|    343|candy.conroy@emai...|\n",
      "|   7393|dulcie.gottlieb@e...|\n",
      "|   3909|rodrigo.reynolds@...|\n",
      "|   9952|jenna.bode@email.com|\n",
      "|   2364|dan.herman@email.com|\n",
      "|   1611|stanley.witting@e...|\n",
      "|   1723|clarinda.kilback@...|\n",
      "|   7032|charley.carroll@e...|\n",
      "|    549|cameron.harris@em...|\n",
      "|   4161|reyes.stracke@ema...|\n",
      "|    503|jolynn.schulist@e...|\n",
      "+-------+--------------------+\n",
      "only showing top 20 rows\n",
      "\n"
     ]
    }
   ],
   "source": [
    "df_user = (\n",
    "    spark\n",
    "    .read\n",
    "    .format(\"json\")\n",
    "    .load(path_landing[\"user\"])\n",
    "    .select(\"user_id\",\"email\",\"gender\")\n",
    ")\n",
    "\n",
    "df_user = df_user.drop(\"gender\")\n",
    "print(\"*\"*20)\n",
    "print(\"ESTRUTURA DA TABELA DELTA\")\n",
    "df_user.printSchema()\n",
    "print(\"*\"*20)\n",
    "print(\"VISUALIZANDO TABELA DELTA\")\n",
    "df_user.show()"
   ]
  },
  {
   "cell_type": "markdown",
   "id": "09cc6119-edfc-4e97-9e8f-57acc29bb87d",
   "metadata": {},
   "source": [
    "## Sobrescrevendo a estrutura da Tabela"
   ]
  },
  {
   "cell_type": "code",
   "execution_count": 75,
   "id": "55610a10-5f61-481a-bbfb-494c0c32ac89",
   "metadata": {},
   "outputs": [],
   "source": [
    "(\n",
    "    df_user\n",
    "    .write\n",
    "    .format(\"delta\")\n",
    "    .mode(\"overwrite\")\n",
    "    .option(\"overwriteSchema\", True)\n",
    "    .save(path_bronze[\"user\"])\n",
    ")"
   ]
  },
  {
   "cell_type": "markdown",
   "id": "00ac28c8-6452-444d-9266-7999d134e141",
   "metadata": {},
   "source": [
    "## Lendo após sobrescrita da estrutura da Tabela"
   ]
  },
  {
   "cell_type": "code",
   "execution_count": 76,
   "id": "515a36b6-a087-4d5c-a65a-c7adbeb73ebb",
   "metadata": {},
   "outputs": [
    {
     "name": "stdout",
     "output_type": "stream",
     "text": [
      "********************\n",
      "ESTRUTURA DA TABELA DELTA\n",
      "root\n",
      " |-- user_id: long (nullable = true)\n",
      " |-- email: string (nullable = true)\n",
      "\n",
      "********************\n",
      "VISUALIZANDO TABELA DELTA\n",
      "+-------+--------------------+\n",
      "|user_id|               email|\n",
      "+-------+--------------------+\n",
      "|   9177|danilo.krajcik@em...|\n",
      "|   6483|santos.nitzsche@e...|\n",
      "|   4060|dwain.bernier@ema...|\n",
      "|   4493|felica.schroeder@...|\n",
      "|   4069|jesica.nienow@ema...|\n",
      "|   9060|delores.ratke@ema...|\n",
      "|   8413|dorian.macejkovic...|\n",
      "|   4567| roman.rau@email.com|\n",
      "|    327|heriberto.cronin@...|\n",
      "|   8234|richie.bahringer@...|\n",
      "|   5541|lelia.quitzon@ema...|\n",
      "|   7531|lianne.heathcote@...|\n",
      "|   2425|melani.turner@ema...|\n",
      "|   5042|kellee.parisian@e...|\n",
      "|   5002|dannie.schroeder@...|\n",
      "|   9083|diana.hudson@emai...|\n",
      "|   7880|kenneth.connelly@...|\n",
      "|   3802|kristyn.dicki@ema...|\n",
      "|   7982| shyla.rau@email.com|\n",
      "|   9925|keena.bahringer@e...|\n",
      "+-------+--------------------+\n",
      "only showing top 20 rows\n",
      "\n"
     ]
    }
   ],
   "source": [
    "df_user = (\n",
    "    spark\n",
    "    .read\n",
    "    .format(\"delta\")\n",
    "    .load(path_bronze[\"user\"])\n",
    ")\n",
    "\n",
    "print(\"*\"*20)\n",
    "print(\"ESTRUTURA DA TABELA DELTA\")\n",
    "df_user.printSchema()\n",
    "print(\"*\"*20)\n",
    "print(\"VISUALIZANDO TABELA DELTA\")\n",
    "df_user.show()"
   ]
  },
  {
   "cell_type": "markdown",
   "id": "6f1d500e",
   "metadata": {},
   "source": [
    "## Forma fácil de realizar uma Migração de Data Lake para Delta"
   ]
  },
  {
   "cell_type": "code",
   "execution_count": 83,
   "id": "3b9dd94f",
   "metadata": {},
   "outputs": [],
   "source": [
    "#deltaTable = DeltaTable.convertToDelta(spark, f\"parquet.`/home/jovyan/work/datalake/legacy-parquet/user/`\")\n",
    "deltaTable = DeltaTable.forPath(spark, \"/home/jovyan/work/datalake/legacy-parquet/user/\")"
   ]
  },
  {
   "cell_type": "code",
   "execution_count": 88,
   "id": "e9ebb00f-437e-4862-a853-57d4125041ae",
   "metadata": {},
   "outputs": [
    {
     "name": "stdout",
     "output_type": "stream",
     "text": [
      "-RECORD 0--------------------------------------------------------------------------\n",
      " version             | 0                                                           \n",
      " timestamp           | 2022-02-11 00:19:01.977                                     \n",
      " userId              | null                                                        \n",
      " userName            | null                                                        \n",
      " operation           | CONVERT                                                     \n",
      " operationParameters | {numFiles -> 4, partitionedBy -> [], collectStats -> false} \n",
      " job                 | null                                                        \n",
      " notebook            | null                                                        \n",
      " clusterId           | null                                                        \n",
      " readVersion         | -1                                                          \n",
      " isolationLevel      | Serializable                                                \n",
      " isBlindAppend       | false                                                       \n",
      " operationMetrics    | {numConvertedFiles -> 4}                                    \n",
      " userMetadata        | null                                                        \n",
      " engineInfo          | Apache-Spark/3.2.1 Delta-Lake/1.1.0                         \n",
      "\n"
     ]
    }
   ],
   "source": [
    "deltaTable.history().show(truncate=False,vertical=True)"
   ]
  }
 ],
 "metadata": {
  "kernelspec": {
   "display_name": "Python 3 (ipykernel)",
   "language": "python",
   "name": "python3"
  },
  "language_info": {
   "codemirror_mode": {
    "name": "ipython",
    "version": 3
   },
   "file_extension": ".py",
   "mimetype": "text/x-python",
   "name": "python",
   "nbconvert_exporter": "python",
   "pygments_lexer": "ipython3",
   "version": "3.9.7"
  }
 },
 "nbformat": 4,
 "nbformat_minor": 5
}
