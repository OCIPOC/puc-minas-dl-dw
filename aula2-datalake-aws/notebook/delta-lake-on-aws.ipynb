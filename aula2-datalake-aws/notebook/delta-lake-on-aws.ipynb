{
 "cells": [
  {
   "cell_type": "code",
   "execution_count": 3,
   "id": "97a2c531-37e8-4a8f-880d-883713a8233a",
   "metadata": {
    "execution": {
     "iopub.execute_input": "2022-02-17T19:58:51.780444Z",
     "iopub.status.busy": "2022-02-17T19:58:51.780243Z",
     "iopub.status.idle": "2022-02-17T19:58:51.843657Z",
     "shell.execute_reply": "2022-02-17T19:58:51.843098Z",
     "shell.execute_reply.started": "2022-02-17T19:58:51.780404Z"
    },
    "tags": []
   },
   "outputs": [
    {
     "data": {
      "application/vnd.jupyter.widget-view+json": {
       "model_id": "649f53dfa549411fa07e31f52711d75e",
       "version_major": 2,
       "version_minor": 0
      },
      "text/plain": [
       "VBox()"
      ]
     },
     "metadata": {},
     "output_type": "display_data"
    },
    {
     "data": {
      "application/vnd.jupyter.widget-view+json": {
       "model_id": "",
       "version_major": 2,
       "version_minor": 0
      },
      "text/plain": [
       "FloatProgress(value=0.0, bar_style='info', description='Progress:', layout=Layout(height='25px', width='50%'),…"
      ]
     },
     "metadata": {},
     "output_type": "display_data"
    }
   ],
   "source": [
    "path_landing = {\n",
    "    \"user\":\"s3://puc-minas-landing-zone-127012818163/user/\",\n",
    "    \"bank\":\"s3://puc-minas-landing-zone-127012818163/bank/\",\n",
    "    \"commerce\":\"s3://puc-minas-landing-zone-127012818163/commerce/\"\n",
    "}\n",
    "\n",
    "path_processing = {\n",
    "    \"user\":\"s3://puc-minas-processing-zone-127012818163/user/\",\n",
    "    \"bank\":\"s3://puc-minas-processing-zone-127012818163/bank/\",\n",
    "    \"commerce\":\"s3://puc-minas-processing-zone-127012818163/commerce/\"\n",
    "}"
   ]
  },
  {
   "cell_type": "code",
   "execution_count": 40,
   "id": "98134f71-6981-4ea6-b4c9-161fccab443f",
   "metadata": {
    "execution": {
     "iopub.execute_input": "2022-02-17T21:05:11.138754Z",
     "iopub.status.busy": "2022-02-17T21:05:11.138520Z",
     "iopub.status.idle": "2022-02-17T21:05:13.417684Z",
     "shell.execute_reply": "2022-02-17T21:05:13.411376Z",
     "shell.execute_reply.started": "2022-02-17T21:05:11.138730Z"
    },
    "tags": []
   },
   "outputs": [
    {
     "data": {
      "application/vnd.jupyter.widget-view+json": {
       "model_id": "48540c9e70564fe0adfb7e9df20f973e",
       "version_major": 2,
       "version_minor": 0
      },
      "text/plain": [
       "VBox()"
      ]
     },
     "metadata": {},
     "output_type": "display_data"
    },
    {
     "data": {
      "application/vnd.jupyter.widget-view+json": {
       "model_id": "",
       "version_major": 2,
       "version_minor": 0
      },
      "text/plain": [
       "FloatProgress(value=0.0, bar_style='info', description='Progress:', layout=Layout(height='25px', width='50%'),…"
      ]
     },
     "metadata": {},
     "output_type": "display_data"
    },
    {
     "name": "stdout",
     "output_type": "stream",
     "text": [
      "+-------+----------------+--------------------+--------------------+\n",
      "|user_id|        username|               email|        phone_number|\n",
      "+-------+----------------+--------------------+--------------------+\n",
      "|   1703|    daron.bailey|daron.bailey@emai...|    +43 396-218-0539|\n",
      "|   3650|   jonah.barrows|jonah.barrows@ema...| +996 1-404-010-5986|\n",
      "|   8809|    carla.hansen|carla.hansen@emai...|+46 (993) 071-359...|\n",
      "|   4606|    tomas.ledner|tomas.ledner@emai...|+670 (895) 368-67...|\n",
      "|      1|     alyse.ortiz|alyse.ortiz@email...|+1-441 1-386-088-...|\n",
      "|   9245|   russell.kulas|russell.kulas@ema...|   +809 781.175.2374|\n",
      "|   3425|   armida.lehner|armida.lehner@ema...|+82 1-508-937-263...|\n",
      "|   4264|     tad.sanford|tad.sanford@email...|   +221 217.401.5988|\n",
      "|   1668|     rosia.jones|rosia.jones@email...|+1-268 1-284-155-...|\n",
      "|    343|    candy.conroy|candy.conroy@emai...| +502 (506) 454-8685|\n",
      "|   7393| dulcie.gottlieb|dulcie.gottlieb@e...| +385 1-648-994-3482|\n",
      "|   3909|rodrigo.reynolds|rodrigo.reynolds@...|+592 (856) 832-46...|\n",
      "|   9952|      jenna.bode|jenna.bode@email.com| +389 1-659-032-5254|\n",
      "|   2364|      dan.herman|dan.herman@email.com|+255 1-321-322-61...|\n",
      "|   1611| stanley.witting|stanley.witting@e...|+501 718.927.3600...|\n",
      "|   1723|clarinda.kilback|clarinda.kilback@...| +370 1-955-662-3669|\n",
      "|   7032| charley.carroll|charley.carroll@e...|   +350 628-271-3414|\n",
      "|    549|  cameron.harris|cameron.harris@em...|+298 676.449.1225...|\n",
      "|   4161|   reyes.stracke|reyes.stracke@ema...| +678 (426) 238-0729|\n",
      "|    503| jolynn.schulist|jolynn.schulist@e...|+962 1-401-278-14...|\n",
      "+-------+----------------+--------------------+--------------------+\n",
      "only showing top 20 rows\n",
      "\n",
      "root\n",
      " |-- user_id: long (nullable = true)\n",
      " |-- username: string (nullable = true)\n",
      " |-- email: string (nullable = true)\n",
      " |-- phone_number: string (nullable = true)\n",
      "\n",
      "+-------+--------------------+\n",
      "|user_id|           bank_name|\n",
      "+-------+--------------------+\n",
      "|   9975|ABN AMRO HOARE GO...|\n",
      "|   9926|ABN AMRO MEZZANIN...|\n",
      "|   5981|ABN AMRO HOARE GO...|\n",
      "|   6756|UBS CLEARING AND ...|\n",
      "|   9175|ABN AMRO HOARE GO...|\n",
      "|   7848|ABBOTSTONE AGRICU...|\n",
      "|   5552|ABINGWORTH MANAGE...|\n",
      "|   6111|ABN AMRO HOARE GO...|\n",
      "|   2942|ABN AMRO CORPORAT...|\n",
      "|   3062|          ABBEY LIFE|\n",
      "|   3687|ABN AMRO HOARE GO...|\n",
      "|   3696|OTKRITIE SECURITI...|\n",
      "|   9749|    SANTANDER UK PLC|\n",
      "|   9886|ABC INTERNATIONAL...|\n",
      "|   5755|ABN AMRO CORPORAT...|\n",
      "|   4202|UBS CLEARING AND ...|\n",
      "|   6730|ABN AMRO FUND MAN...|\n",
      "|   3826|THE ROYAL BANK OF...|\n",
      "|   8491|    SANTANDER UK PLC|\n",
      "|   6981|ABN AMRO CORPORAT...|\n",
      "+-------+--------------------+\n",
      "only showing top 20 rows\n",
      "\n",
      "root\n",
      " |-- user_id: long (nullable = true)\n",
      " |-- bank_name: string (nullable = true)"
     ]
    }
   ],
   "source": [
    "### lendo dados\n",
    "df_user = (\n",
    "    spark\n",
    "    .read\n",
    "    .format(\"json\")\n",
    "    .load(path_landing[\"user\"])\n",
    ")\n",
    "\n",
    "df_user = (\n",
    "    df_user\n",
    "    .select(\"user_id\",\"username\",\"email\",\"phone_number\")\n",
    ")\n",
    "df_user = df_user.alias(\"u\")\n",
    "df_user.show()\n",
    "df_user.printSchema()\n",
    "\n",
    "df_bank = (\n",
    "    spark\n",
    "    .read\n",
    "    .format(\"json\")\n",
    "    .load(path_landing[\"bank\"])\n",
    ")\n",
    "\n",
    "df_bank = (\n",
    "    df_bank\n",
    "    .select(\"user_id\",\"bank_name\")\n",
    ")\n",
    "df_bank = df_bank.alias(\"b\")\n",
    "df_bank.show()\n",
    "df_bank.printSchema()"
   ]
  },
  {
   "cell_type": "code",
   "execution_count": 42,
   "id": "ac086746-98a2-4850-8152-878ba50f64a8",
   "metadata": {
    "execution": {
     "iopub.execute_input": "2022-02-17T21:05:18.089350Z",
     "iopub.status.busy": "2022-02-17T21:05:18.089099Z",
     "iopub.status.idle": "2022-02-17T21:05:19.358571Z",
     "shell.execute_reply": "2022-02-17T21:05:19.357985Z",
     "shell.execute_reply.started": "2022-02-17T21:05:18.089311Z"
    },
    "tags": []
   },
   "outputs": [
    {
     "data": {
      "application/vnd.jupyter.widget-view+json": {
       "model_id": "6abacbc861334960af8d309d892ece94",
       "version_major": 2,
       "version_minor": 0
      },
      "text/plain": [
       "VBox()"
      ]
     },
     "metadata": {},
     "output_type": "display_data"
    },
    {
     "data": {
      "application/vnd.jupyter.widget-view+json": {
       "model_id": "",
       "version_major": 2,
       "version_minor": 0
      },
      "text/plain": [
       "FloatProgress(value=0.0, bar_style='info', description='Progress:', layout=Layout(height='25px', width='50%'),…"
      ]
     },
     "metadata": {},
     "output_type": "display_data"
    },
    {
     "name": "stdout",
     "output_type": "stream",
     "text": [
      "+-------+----------------+--------------------+--------------------+--------------------+\n",
      "|user_id|        username|               email|        phone_number|           bank_name|\n",
      "+-------+----------------+--------------------+--------------------+--------------------+\n",
      "|   1703|    daron.bailey|daron.bailey@emai...|    +43 396-218-0539|ALLIED BANK PHILI...|\n",
      "|   9245|   russell.kulas|russell.kulas@ema...|   +809 781.175.2374|ABN AMRO HOARE GO...|\n",
      "|    343|    candy.conroy|candy.conroy@emai...| +502 (506) 454-8685|ABG SUNDAL COLLIE...|\n",
      "|   9952|      jenna.bode|jenna.bode@email.com| +389 1-659-032-5254|ALKEN ASSET MANAG...|\n",
      "|   8510|     scot.kuphal|scot.kuphal@email...| +299 1-321-853-9233|ABN AMRO HOARE GO...|\n",
      "|   2052|    emeline.torp|emeline.torp@emai...|   +503 736.009.7196|    SANTANDER UK PLC|\n",
      "|   1312|geoffrey.hilpert|geoffrey.hilpert@...|+380 (175) 073-70...|ABN AMRO CORPORAT...|\n",
      "|   6013|    derick.feest|derick.feest@emai...|+850 928-026-0951...|AAC CAPITAL PARTN...|\n",
      "|   4010| jeremiah.klocko|jeremiah.klocko@e...|+850 925-507-9806...|UBS CLEARING AND ...|\n",
      "|   3757|   luther.feeney|luther.feeney@ema...|+1-787 310-618-42...|ABU DHABI ISLAMIC...|\n",
      "|   2002| rodrick.kautzer|rodrick.kautzer@e...|    +57 943-776-3139|ABN AMRO FUND MAN...|\n",
      "|   8887|     teressa.orn|teressa.orn@email...| +386 (256) 231-5475|ABN AMRO HOARE GO...|\n",
      "|   4973|     odis.brekke|odis.brekke@email...|+64 (341) 844-585...|ABC INTERNATIONAL...|\n",
      "|   8823|maryalice.cassin|maryalice.cassin@...|+7-7 (314) 028-51...|ABN AMRO HOARE GO...|\n",
      "|   2387|   hiroko.rogahn|hiroko.rogahn@ema...|+598 167.582.6951...|          ABBEY LIFE|\n",
      "|   1414|      stan.boyer|stan.boyer@email.com|+673 1-983-690-07...|ABN AMRO QUOTED I...|\n",
      "|   1583|    neal.windler|neal.windler@emai...|+960 807-802-6261...|PGMS (GLASGOW) LI...|\n",
      "|   1376|   willy.flatley|willy.flatley@ema...|+256 1-868-087-16...|ABN AMRO FUND MAN...|\n",
      "|   8824|   liza.dietrich|liza.dietrich@ema...|+264 833-453-2220...|ABN AMRO CORPORAT...|\n",
      "|    911|    bryan.hessel|bryan.hessel@emai...| +351 1-376-202-8010|          ABBEY LIFE|\n",
      "+-------+----------------+--------------------+--------------------+--------------------+\n",
      "only showing top 20 rows"
     ]
    }
   ],
   "source": [
    "from pyspark.sql.functions import col\n",
    "\n",
    "df_user_bank = (\n",
    "    df_user\n",
    "        .join(\n",
    "            df_bank, \n",
    "                col(\"u.user_id\") == col(\"b.user_id\"),\n",
    "                how=\"inner\"\n",
    "        )\n",
    "        .select(\n",
    "            \"u.user_id\",\n",
    "            \"u.username\",\n",
    "            \"u.email\",\n",
    "            \"u.phone_number\",\n",
    "            \"b.bank_name\"\n",
    "        )\n",
    ")\n",
    "\n",
    "df_user_bank.show()"
   ]
  },
  {
   "cell_type": "code",
   "execution_count": 43,
   "id": "65ca2fa2-cf5e-4dc6-899a-94adb80bba5e",
   "metadata": {
    "execution": {
     "iopub.execute_input": "2022-02-17T21:05:26.019190Z",
     "iopub.status.busy": "2022-02-17T21:05:26.018773Z",
     "iopub.status.idle": "2022-02-17T21:05:28.319618Z",
     "shell.execute_reply": "2022-02-17T21:05:28.318720Z",
     "shell.execute_reply.started": "2022-02-17T21:05:26.019149Z"
    },
    "tags": []
   },
   "outputs": [
    {
     "data": {
      "application/vnd.jupyter.widget-view+json": {
       "model_id": "70ef5e6d771b4cd09e3d92e78b0af57d",
       "version_major": 2,
       "version_minor": 0
      },
      "text/plain": [
       "VBox()"
      ]
     },
     "metadata": {},
     "output_type": "display_data"
    },
    {
     "data": {
      "application/vnd.jupyter.widget-view+json": {
       "model_id": "",
       "version_major": 2,
       "version_minor": 0
      },
      "text/plain": [
       "FloatProgress(value=0.0, bar_style='info', description='Progress:', layout=Layout(height='25px', width='50%'),…"
      ]
     },
     "metadata": {},
     "output_type": "display_data"
    }
   ],
   "source": [
    "(\n",
    "    df_user_bank\n",
    "    .write\n",
    "    .mode(\"overwrite\") ### overwrite / append\n",
    "    .format(\"parquet\")\n",
    "    .save(path_processing[\"bank\"])\n",
    ")"
   ]
  }
 ],
 "metadata": {
  "kernelspec": {
   "display_name": "PySpark",
   "language": "",
   "name": "pysparkkernel"
  },
  "language_info": {
   "codemirror_mode": {
    "name": "python",
    "version": 3
   },
   "mimetype": "text/x-python",
   "name": "pyspark",
   "pygments_lexer": "python3"
  }
 },
 "nbformat": 4,
 "nbformat_minor": 5
}
